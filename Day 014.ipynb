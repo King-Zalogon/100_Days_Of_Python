{
 "cells": [
  {
   "cell_type": "markdown",
   "id": "9681f05e",
   "metadata": {},
   "source": [
    "# Higher or Lower"
   ]
  },
  {
   "cell_type": "markdown",
   "id": "d7106359",
   "metadata": {},
   "source": []
  },
  {
   "cell_type": "code",
   "execution_count": null,
   "id": "7586f49a",
   "metadata": {},
   "outputs": [],
   "source": [
    "from game_data import data\n",
    "import random\n",
    "from art import logo, vs\n",
    "from replit import clear\n",
    "\n",
    "def get_random_account():\n",
    "  \"\"\"Get data from random account\"\"\"\n",
    "  return random.choice(data)\n",
    "\n",
    "def format_data(account):\n",
    "  \"\"\"Format account into printable format: name, description and country\"\"\"\n",
    "  name = account[\"name\"]\n",
    "  description = account[\"description\"]\n",
    "  country = account[\"country\"]\n",
    "  # print(f'{name}: {account[\"follower_count\"]}')\n",
    "  return f\"{name}, a {description}, from {country}\"\n",
    "\n",
    "def check_answer(guess, a_followers, b_followers):\n",
    "  \"\"\"Checks followers against user's guess \n",
    "  and returns True if they got it right.\n",
    "  Or False if they got it wrong.\"\"\" \n",
    "  if a_followers > b_followers:\n",
    "    return guess == \"a\"\n",
    "  else:\n",
    "    return guess == \"b\"\n",
    "\n",
    "\n",
    "def game():\n",
    "  print(logo)\n",
    "  score = 0\n",
    "  game_should_continue = True\n",
    "  account_a = get_random_account()\n",
    "  account_b = get_random_account()\n",
    "\n",
    "  while game_should_continue:\n",
    "    account_a = account_b\n",
    "    account_b = get_random_account()\n",
    "\n",
    "    while account_a == account_b:\n",
    "      account_b = get_random_account()\n",
    "\n",
    "    print(f\"Compare A: {format_data(account_a)}.\")\n",
    "    print(vs)\n",
    "    print(f\"Against B: {format_data(account_b)}.\")\n",
    "    \n",
    "    guess = input(\"Who has more followers? Type 'A' or 'B': \").lower()\n",
    "    a_follower_count = account_a[\"follower_count\"]\n",
    "    b_follower_count = account_b[\"follower_count\"]\n",
    "    is_correct = check_answer(guess, a_follower_count, b_follower_count)\n",
    "\n",
    "    clear()\n",
    "    print(logo)\n",
    "    if is_correct:\n",
    "      score += 1\n",
    "      print(f\"You're right! Current score: {score}.\")\n",
    "    else:\n",
    "      game_should_continue = False\n",
    "      print(f\"Sorry, that's wrong. Final score: {score}\")\n",
    "\n",
    "game()\n",
    "\n",
    "'''\n",
    "\n",
    "FAQ: Why does choice B always become choice A in every round, even when A had more followers? \n",
    "\n",
    "Suppose you just started the game and you are comparing the followers of A - Instagram (364k) to B - Selena Gomez (174k). Instagram has more followers, so choice A is correct. However, the subsequent comparison should be between Selena Gomez (the new A) and someone else. The reason is that everything in our list has fewer followers than Instagram. If we were to keep Instagram as part of the comparison (as choice A) then Instagram would stay there for the rest of the game. This would be quite boring. By swapping choice B for A each round, we avoid a situation where the number of followers of choice A keeps going up over the course of the game. Hope that makes sense :-)\n",
    "\n",
    "'''\n",
    "\n",
    "\n",
    "\n",
    "# Generate a random account from the game data.\n",
    "\n",
    "# Format account data into printable format.\n",
    "\n",
    "# Ask user for a guess.\n",
    "\n",
    "# Check if user is correct.\n",
    "## Get follower count.\n",
    "## If Statement\n",
    "\n",
    "# Feedback.\n",
    "\n",
    "# Score Keeping.\n",
    "\n",
    "# Make game repeatable.\n",
    "\n",
    "# Make B become the next A.\n",
    "\n",
    "# Add art.\n",
    "\n",
    "# Clear screen between rounds."
   ]
  },
  {
   "cell_type": "code",
   "execution_count": null,
   "id": "051747fc",
   "metadata": {},
   "outputs": [],
   "source": []
  },
  {
   "cell_type": "markdown",
   "id": "1175c808",
   "metadata": {},
   "source": [
    "## Breaking down the problem\n",
    "\n",
    "Parts:\n",
    "\n",
    "-imports: random, art, data, clear\n",
    "\n",
    "-Print logo\n",
    "-Print A\n",
    "-Print VS\n",
    "-Print B\n",
    "-Print Current Score\n",
    "-Print Final Score\n",
    "\n",
    "\n",
    "-func user_guess -> takes user input of 'a' or 'b' (use .lower())\n",
    "-func check_guess -> checks if user_guess == higher of A or B followers\n",
    "-func score_tracker -> takes result from check_guess then score+=1 or break loop/end game\n",
    "\n",
    "-A/B has name, profile, location and x followers\n"
   ]
  },
  {
   "cell_type": "code",
   "execution_count": 6,
   "id": "a69d46b2",
   "metadata": {},
   "outputs": [
    {
     "name": "stdout",
     "output_type": "stream",
     "text": [
      "Go!\n"
     ]
    }
   ],
   "source": [
    "from IPython.display import clear_output\n",
    "import time \n",
    "\n",
    "for i in range(10, 0, -1):\n",
    "    clear_output(wait=True)\n",
    "    print(i)\n",
    "    time.sleep(1)\n",
    "clear_output(wait=True)\n",
    "print('Go!')"
   ]
  },
  {
   "cell_type": "code",
   "execution_count": 8,
   "id": "985a0040",
   "metadata": {},
   "outputs": [],
   "source": [
    "import random\n",
    "from art_higher_or_lower import logo, vs\n",
    "from game_data_higher_or_lower import data as game_data\n"
   ]
  },
  {
   "cell_type": "code",
   "execution_count": 9,
   "id": "8a061f2a",
   "metadata": {
    "scrolled": false
   },
   "outputs": [
    {
     "name": "stdout",
     "output_type": "stream",
     "text": [
      "\n",
      "    __  ___       __             \n",
      "   / / / (_)___ _/ /_  ___  _____\n",
      "  / /_/ / / __ `/ __ \\/ _ \\/ ___/\n",
      " / __  / / /_/ / / / /  __/ /    \n",
      "/_/ ///_/\\__, /_/ /_/\\___/_/     \n",
      "   / /  /____/_      _____  _____\n",
      "  / /   / __ \\ | /| / / _ \\/ ___/\n",
      " / /___/ /_/ / |/ |/ /  __/ /    \n",
      "/_____/\\____/|__/|__/\\___/_/     \n",
      "\n",
      "\n",
      " _    __    \n",
      "| |  / /____\n",
      "| | / / ___/\n",
      "| |/ (__  ) \n",
      "|___/____(_)\n",
      "\n"
     ]
    }
   ],
   "source": [
    "print (logo)\n",
    "print (vs)"
   ]
  },
  {
   "cell_type": "code",
   "execution_count": 10,
   "id": "e55db487",
   "metadata": {
    "scrolled": true
   },
   "outputs": [
    {
     "data": {
      "text/plain": [
       "50"
      ]
     },
     "execution_count": 10,
     "metadata": {},
     "output_type": "execute_result"
    }
   ],
   "source": [
    "len(game_data)"
   ]
  },
  {
   "cell_type": "code",
   "execution_count": 11,
   "id": "c775dd41",
   "metadata": {},
   "outputs": [
    {
     "data": {
      "text/plain": [
       "{'name': 'Instagram',\n",
       " 'follower_count': 346,\n",
       " 'description': 'Social media platform',\n",
       " 'country': 'United States'}"
      ]
     },
     "execution_count": 11,
     "metadata": {},
     "output_type": "execute_result"
    }
   ],
   "source": [
    "game_data[0]"
   ]
  },
  {
   "cell_type": "code",
   "execution_count": 13,
   "id": "64f78f41",
   "metadata": {
    "scrolled": true
   },
   "outputs": [
    {
     "name": "stdout",
     "output_type": "stream",
     "text": [
      "Instagram\n"
     ]
    }
   ],
   "source": [
    "print(game_data[0]['name'])"
   ]
  },
  {
   "cell_type": "code",
   "execution_count": 15,
   "id": "a83a17c3",
   "metadata": {
    "scrolled": false
   },
   "outputs": [
    {
     "name": "stdout",
     "output_type": "stream",
     "text": [
      "Compare A: Instagram, a Social media platform, from United States\n"
     ]
    }
   ],
   "source": [
    "print(f\"Compare A: {game_data[0]['name']}, a {game_data[0]['description']}, from {game_data[0]['country']}.\")"
   ]
  },
  {
   "cell_type": "code",
   "execution_count": 21,
   "id": "0da34356",
   "metadata": {},
   "outputs": [],
   "source": [
    "def match_order(data):\n",
    "    '''\n",
    "    Returns a list of shuffled numbers between 0 and the lenght of the database in use\n",
    "    Use that list as index to return info from data at random but without repeating\n",
    "    Allows to use B's data as A's in the next round\n",
    "    '''\n",
    "    order = []\n",
    "    for i in range(0,(len(data))):\n",
    "        order.append(i)\n",
    "        \n",
    "    random.shuffle(order)\n",
    "    return order\n"
   ]
  },
  {
   "cell_type": "code",
   "execution_count": 22,
   "id": "e88ed396",
   "metadata": {},
   "outputs": [],
   "source": [
    "data_order = match_order(game_data)"
   ]
  },
  {
   "cell_type": "code",
   "execution_count": 23,
   "id": "bbe795ea",
   "metadata": {
    "scrolled": false
   },
   "outputs": [
    {
     "name": "stdout",
     "output_type": "stream",
     "text": [
      "[18, 21, 35, 49, 45, 10, 25, 23, 33, 38, 39, 40, 34, 46, 42, 24, 43, 44, 22, 3, 9, 41, 37, 13, 47, 7, 2, 4, 15, 28, 31, 32, 27, 1, 29, 8, 5, 30, 19, 6, 36, 26, 16, 14, 12, 11, 48, 17, 0, 20]\n"
     ]
    }
   ],
   "source": [
    "print(data_order)"
   ]
  },
  {
   "cell_type": "code",
   "execution_count": 24,
   "id": "1244af58",
   "metadata": {
    "scrolled": true
   },
   "outputs": [
    {
     "data": {
      "text/plain": [
       "False"
      ]
     },
     "execution_count": 24,
     "metadata": {},
     "output_type": "execute_result"
    }
   ],
   "source": [
    "50 in data_order"
   ]
  },
  {
   "cell_type": "code",
   "execution_count": 27,
   "id": "08782921",
   "metadata": {},
   "outputs": [],
   "source": [
    "def match_turns(data):\n",
    "    '''\n",
    "    Returns a list with a maximum lenghts equal to the lenghts of the data minus 1\n",
    "    to be used a a tracker of current turn, and maximum number of turns\n",
    "    If each turns means the previous one was won, it can be used as score also\n",
    "    Since game compares A and B, use current turn as index of match_order list for A, and current+1 for B\n",
    "    Thant's why range is len-1, so it's doesn't run out of options for B\n",
    "    '''\n",
    "    \n",
    "    turns = []\n",
    "    for i in range(0,(len(data)-1)):\n",
    "        turns.append(i)\n",
    "        \n",
    "    return turns"
   ]
  },
  {
   "cell_type": "code",
   "execution_count": 28,
   "id": "6eb69ccf",
   "metadata": {
    "scrolled": false
   },
   "outputs": [
    {
     "name": "stdout",
     "output_type": "stream",
     "text": [
      "[0, 1, 2, 3, 4, 5, 6, 7, 8, 9, 10, 11, 12, 13, 14, 15, 16, 17, 18, 19, 20, 21, 22, 23, 24, 25, 26, 27, 28, 29, 30, 31, 32, 33, 34, 35, 36, 37, 38, 39, 40, 41, 42, 43, 44, 45, 46, 47, 48]\n"
     ]
    }
   ],
   "source": [
    "turns = match_turns(game_data)\n",
    "print (turns)"
   ]
  },
  {
   "cell_type": "code",
   "execution_count": null,
   "id": "0d324f6e",
   "metadata": {},
   "outputs": [],
   "source": []
  },
  {
   "cell_type": "code",
   "execution_count": 48,
   "id": "dba5fa2a",
   "metadata": {},
   "outputs": [
    {
     "name": "stdout",
     "output_type": "stream",
     "text": [
      "\n",
      "    __  ___       __             \n",
      "   / / / (_)___ _/ /_  ___  _____\n",
      "  / /_/ / / __ `/ __ \\/ _ \\/ ___/\n",
      " / __  / / /_/ / / / /  __/ /    \n",
      "/_/ ///_/\\__, /_/ /_/\\___/_/     \n",
      "   / /  /____/_      _____  _____\n",
      "  / /   / __ \\ | /| / / _ \\/ ___/\n",
      " / /___/ /_/ / |/ |/ /  __/ /    \n",
      "/_____/\\____/|__/|__/\\___/_/     \n",
      "\n",
      "Turn number 6!\n",
      "Compare A: Ariana Grande, a Musician and actress, from United States, \n",
      "followers 183.\n",
      "\n",
      " _    __    \n",
      "| |  / /____\n",
      "| | / / ___/\n",
      "| |/ (__  ) \n",
      "|___/____(_)\n",
      "\n",
      "Against B: Lionel Messi, a Footballer, from Argentina, \n",
      "followers 149.\n",
      "Your current score is 6\n",
      "Type the correct for next question:b\n",
      "Tzzzz! Wrong!\n",
      "Game Over!\n",
      "Your final score is: 6\n"
     ]
    }
   ],
   "source": [
    "data_order = match_order(game_data)\n",
    "turns = match_turns(game_data)\n",
    "correct = ''\n",
    "\n",
    "print(logo)\n",
    "print(\"Welcome to my game of Higher or Lower!\")\n",
    "\n",
    "guess = input('Press ENTER to begin')\n",
    "\n",
    "for i in range(3, 0, -1):\n",
    "    clear_output(wait=True)\n",
    "    print(logo)\n",
    "    print(f'The game will begin in {i}!')\n",
    "    time.sleep(1)\n",
    "clear_output(wait=True)\n",
    "print(logo)\n",
    "print('Go!')\n",
    "\n",
    "current_turn = 0\n",
    "\n",
    "score = current_turn\n",
    "\n",
    "while guess == correct and current_turn < len(turns):\n",
    "    \n",
    "    clear_output(wait=True)\n",
    "    \n",
    "    question_a = data_order[current_turn]\n",
    "    question_b = data_order[current_turn+1]\n",
    "\n",
    "    print(logo)\n",
    "    print(f'Turn number {current_turn+1}!')\n",
    "    print(f\"Compare A: {game_data[question_a]['name']}, a {game_data[question_a]['description']}, from {game_data[question_a]['country']}, \\nfollowers {game_data[question_a]['follower_count']}.\")\n",
    "    print(vs)\n",
    "    print(f\"Against B: {game_data[question_b]['name']}, a {game_data[question_b]['description']}, from {game_data[question_b]['country']}, \\nfollowers {game_data[question_b]['follower_count']}.\")\n",
    "    \n",
    "    if game_data[question_a]['follower_count'] > game_data[question_b]['follower_count']:\n",
    "        correct = 'a'\n",
    "    else:\n",
    "        correct = 'b'\n",
    "    \n",
    "    current_turn +=1\n",
    "    \n",
    "    score = current_turn\n",
    "    \n",
    "    print(f'Your current score is {score}')\n",
    "    \n",
    "    guess = input('Type the correct for next question: ').lower()\n",
    "    \n",
    "print(f'Tzzzz! Wrong!\\nGame Over!\\nYour final score is: {score}')"
   ]
  },
  {
   "cell_type": "code",
   "execution_count": 11,
   "id": "d32653f2",
   "metadata": {},
   "outputs": [],
   "source": [
    "import time\n",
    "import random\n",
    "from IPython.display import clear_output\n",
    "from art_higher_or_lower import logo, vs\n",
    "from game_data_higher_or_lower import data as game_data\n",
    "\n",
    "def match_order(data):\n",
    "    '''\n",
    "    Returns a list of shuffled numbers between 0 and the lenght of the database in use\n",
    "    Use that list as index to return info from data at random but without repeating\n",
    "    Allows to use B's data as A's in the next round\n",
    "    '''\n",
    "    order = []\n",
    "    for i in range(0,(len(data))):\n",
    "        order.append(i)\n",
    "        \n",
    "    random.shuffle(order)\n",
    "    return order\n",
    "\n",
    "def match_turns(data):\n",
    "    '''\n",
    "    Returns a list with a maximum lenghts equal to the lenghts of the data minus 1\n",
    "    to be used a a tracker of current turn, and maximum number of turns\n",
    "    If each turns means the previous one was won, it can be used as score also\n",
    "    Since game compares A and B, use current turn as index of match_order list for A, and current+1 for B\n",
    "    Thant's why range is len-1, so it's doesn't run out of options for B\n",
    "    '''\n",
    "    \n",
    "    turns = []\n",
    "    for i in range(0,(len(data)-1)):\n",
    "        turns.append(i)\n",
    "        \n",
    "    return turns\n",
    "\n",
    "def game_higher_lower():\n",
    "    '''\n",
    "    First attempt at a game of higher or lower without using OOP\n",
    "    '''\n",
    "    data_order = match_order(game_data)\n",
    "    turns = match_turns(game_data)\n",
    "    correct = ''\n",
    "\n",
    "    print(logo)\n",
    "    print(\"Welcome to my game of Higher or Lower!\")\n",
    "\n",
    "    guess = input('Press ENTER to begin')\n",
    "\n",
    "    for i in range(3, 0, -1):\n",
    "        clear_output(wait=True)\n",
    "        print(logo)\n",
    "        print(f'The game will begin in {i}!')\n",
    "        time.sleep(1)\n",
    "    clear_output(wait=True)\n",
    "    print(logo)\n",
    "    print('Go!')\n",
    "\n",
    "    current_turn = 0\n",
    "\n",
    "    score = current_turn\n",
    "\n",
    "    while current_turn < len(turns):\n",
    "    \n",
    "        clear_output(wait=True)\n",
    "    \n",
    "        question_a = data_order[current_turn]\n",
    "        question_b = data_order[current_turn+1]\n",
    "\n",
    "        print(logo)\n",
    "        print(f'Turn number {current_turn+1}!')\n",
    "        print(f\"Compare A: {game_data[question_a]['name']}, a {game_data[question_a]['description']}, from {game_data[question_a]['country']}.\")\n",
    "        print(vs)\n",
    "        print(f\"Against B: {game_data[question_b]['name']}, a {game_data[question_b]['description']}, from {game_data[question_b]['country']}.\")\n",
    "        \n",
    "        \n",
    "        if game_data[question_a]['follower_count'] > game_data[question_b]['follower_count']:\n",
    "            correct = 'a'\n",
    "        else:\n",
    "            correct = 'b'\n",
    "        \n",
    "        guess = input('Type the correct for next question: ').lower()\n",
    "        \n",
    "        if guess != correct:\n",
    "            break\n",
    "    \n",
    "        current_turn +=1   \n",
    "        score = current_turn\n",
    "        print(f'Your current score is {score}')\n",
    "    \n",
    "        \n",
    "    \n",
    "    print(f'Tzzzz! Wrong!\\nGame Over!\\nYour final score is: {score}')\n",
    "    \n",
    "#"
   ]
  },
  {
   "cell_type": "code",
   "execution_count": 12,
   "id": "5d2a5cc5",
   "metadata": {
    "scrolled": false
   },
   "outputs": [
    {
     "name": "stdout",
     "output_type": "stream",
     "text": [
      "\n",
      "    __  ___       __             \n",
      "   / / / (_)___ _/ /_  ___  _____\n",
      "  / /_/ / / __ `/ __ \\/ _ \\/ ___/\n",
      " / __  / / /_/ / / / /  __/ /    \n",
      "/_/ ///_/\\__, /_/ /_/\\___/_/     \n",
      "   / /  /____/_      _____  _____\n",
      "  / /   / __ \\ | /| / / _ \\/ ___/\n",
      " / /___/ /_/ / |/ |/ /  __/ /    \n",
      "/_____/\\____/|__/|__/\\___/_/     \n",
      "\n",
      "Turn number 2!\n",
      "Compare A: UEFA Champions League, a Club football competition, from Europe.\n",
      "\n",
      " _    __    \n",
      "| |  / /____\n",
      "| | / / ___/\n",
      "| |/ (__  ) \n",
      "|___/____(_)\n",
      "\n",
      "Against B: Maluma, a Musician, from Colombia.\n",
      "Type the correct for next question: b\n",
      "Tzzzz! Wrong!\n",
      "Game Over!\n",
      "Your final score is: 1\n"
     ]
    }
   ],
   "source": [
    "game_higher_lower()"
   ]
  }
 ],
 "metadata": {
  "kernelspec": {
   "display_name": "Python 3 (ipykernel)",
   "language": "python",
   "name": "python3"
  },
  "language_info": {
   "codemirror_mode": {
    "name": "ipython",
    "version": 3
   },
   "file_extension": ".py",
   "mimetype": "text/x-python",
   "name": "python",
   "nbconvert_exporter": "python",
   "pygments_lexer": "ipython3",
   "version": "3.9.12"
  }
 },
 "nbformat": 4,
 "nbformat_minor": 5
}
