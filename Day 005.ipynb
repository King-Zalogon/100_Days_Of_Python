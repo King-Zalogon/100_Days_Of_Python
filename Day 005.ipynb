{
 "cells": [
  {
   "cell_type": "code",
   "execution_count": 1,
   "id": "8b74fa4e",
   "metadata": {},
   "outputs": [],
   "source": [
    "# For Loops, Range and Code Blocks"
   ]
  },
  {
   "cell_type": "code",
   "execution_count": null,
   "id": "8d856f50",
   "metadata": {},
   "outputs": [],
   "source": [
    "# Today's Project: Password Generator"
   ]
  },
  {
   "cell_type": "code",
   "execution_count": 4,
   "id": "f6df59a0",
   "metadata": {},
   "outputs": [
    {
     "name": "stdout",
     "output_type": "stream",
     "text": [
      "Apple\n",
      "Apple Pie\n",
      "Peach\n",
      "Peach Pie\n",
      "Pear\n",
      "Pear Pie\n",
      "['Apple', 'Peach', 'Pear']\n"
     ]
    }
   ],
   "source": [
    "fruits = ['Apple', 'Peach', 'Pear']\n",
    "\n",
    "for fruit in fruits:\n",
    "    print (fruit)\n",
    "    print (fruit + ' Pie')\n",
    "\n",
    "print(fruits)"
   ]
  },
  {
   "cell_type": "markdown",
   "id": "a9eae7cb",
   "metadata": {},
   "source": [
    "# Average Height Calculator"
   ]
  },
  {
   "cell_type": "code",
   "execution_count": 5,
   "id": "62b48da7",
   "metadata": {},
   "outputs": [
    {
     "name": "stdout",
     "output_type": "stream",
     "text": [
      "Input a list of student heights 175 166 182 202 152\n"
     ]
    }
   ],
   "source": [
    "# 🚨 Don't change the code below 👇\n",
    "student_heights = input(\"Input a list of student heights \").split()\n",
    "for n in range(0, len(student_heights)):\n",
    "      student_heights[n] = int(student_heights[n])\n",
    "# 🚨 Don't change the code above 👆\n",
    "\n",
    "\n",
    "#Write your code below this row 👇\n"
   ]
  },
  {
   "cell_type": "code",
   "execution_count": 6,
   "id": "b259f268",
   "metadata": {},
   "outputs": [
    {
     "data": {
      "text/plain": [
       "[175, 166, 182, 202, 152]"
      ]
     },
     "execution_count": 6,
     "metadata": {},
     "output_type": "execute_result"
    }
   ],
   "source": [
    "student_heights"
   ]
  },
  {
   "cell_type": "code",
   "execution_count": 9,
   "id": "f39e075c",
   "metadata": {},
   "outputs": [
    {
     "name": "stdout",
     "output_type": "stream",
     "text": [
      "175\n",
      "170\n",
      "174\n",
      "181\n",
      "175\n"
     ]
    }
   ],
   "source": [
    "total_h = 0\n",
    "total_s = 0\n",
    "for height in student_heights:\n",
    "    total_h += height\n",
    "    total_s += 1\n",
    "    print (round(total_h/total_s))"
   ]
  },
  {
   "cell_type": "code",
   "execution_count": 12,
   "id": "f724afad",
   "metadata": {},
   "outputs": [
    {
     "name": "stdout",
     "output_type": "stream",
     "text": [
      "Input a list of student scores 1 2 3 7 4 6 9 0 5 8\n",
      "[1, 2, 3, 7, 4, 6, 9, 0, 5, 8]\n",
      "The highest score in the class is: 9\n"
     ]
    }
   ],
   "source": [
    "# 🚨 Don't change the code below 👇\n",
    "student_scores = input(\"Input a list of student scores \").split()\n",
    "for n in range(0, len(student_scores)):\n",
    "  student_scores[n] = int(student_scores[n])\n",
    "print(student_scores)\n",
    "# 🚨 Don't change the code above 👆\n",
    "\n",
    "#Write your code below this row 👇\n",
    "\n",
    "hi_score = 0\n",
    "\n",
    "for s in student_scores:\n",
    "    if s > hi_score:\n",
    "        hi_score = s\n",
    "\n",
    "print('The highest score in the class is:',hi_score)"
   ]
  },
  {
   "cell_type": "code",
   "execution_count": 19,
   "id": "81100201",
   "metadata": {},
   "outputs": [
    {
     "name": "stdout",
     "output_type": "stream",
     "text": [
      "5050\n"
     ]
    }
   ],
   "source": [
    "total = 0\n",
    "\n",
    "for number in range (1, 101):\n",
    "    total += number\n",
    "\n",
    "print(total)"
   ]
  },
  {
   "cell_type": "code",
   "execution_count": 20,
   "id": "9be11575",
   "metadata": {},
   "outputs": [
    {
     "name": "stdout",
     "output_type": "stream",
     "text": [
      "2550\n"
     ]
    }
   ],
   "source": [
    "# Adding Even Numbers\n",
    "total = 0\n",
    "\n",
    "for number in range (1, 101):\n",
    "    if number%2 == 0:\n",
    "        total += number\n",
    "\n",
    "print(total)"
   ]
  },
  {
   "cell_type": "code",
   "execution_count": 21,
   "id": "5d51862e",
   "metadata": {},
   "outputs": [
    {
     "name": "stdout",
     "output_type": "stream",
     "text": [
      "1\n",
      "2\n",
      "Fizz\n",
      "4\n",
      "Buzz\n",
      "Fizz\n",
      "7\n",
      "8\n",
      "Fizz\n",
      "Buzz\n",
      "11\n",
      "Fizz\n",
      "13\n",
      "14\n",
      "FizzBuzz\n",
      "16\n",
      "17\n",
      "Fizz\n",
      "19\n",
      "Buzz\n",
      "Fizz\n",
      "22\n",
      "23\n",
      "Fizz\n",
      "Buzz\n",
      "26\n",
      "Fizz\n",
      "28\n",
      "29\n",
      "FizzBuzz\n",
      "31\n",
      "32\n",
      "Fizz\n",
      "34\n",
      "Buzz\n",
      "Fizz\n",
      "37\n",
      "38\n",
      "Fizz\n",
      "Buzz\n",
      "41\n",
      "Fizz\n",
      "43\n",
      "44\n",
      "FizzBuzz\n",
      "46\n",
      "47\n",
      "Fizz\n",
      "49\n",
      "Buzz\n",
      "Fizz\n",
      "52\n",
      "53\n",
      "Fizz\n",
      "Buzz\n",
      "56\n",
      "Fizz\n",
      "58\n",
      "59\n",
      "FizzBuzz\n",
      "61\n",
      "62\n",
      "Fizz\n",
      "64\n",
      "Buzz\n",
      "Fizz\n",
      "67\n",
      "68\n",
      "Fizz\n",
      "Buzz\n",
      "71\n",
      "Fizz\n",
      "73\n",
      "74\n",
      "FizzBuzz\n",
      "76\n",
      "77\n",
      "Fizz\n",
      "79\n",
      "Buzz\n",
      "Fizz\n",
      "82\n",
      "83\n",
      "Fizz\n",
      "Buzz\n",
      "86\n",
      "Fizz\n",
      "88\n",
      "89\n",
      "FizzBuzz\n",
      "91\n",
      "92\n",
      "Fizz\n",
      "94\n",
      "Buzz\n",
      "Fizz\n",
      "97\n",
      "98\n",
      "Fizz\n",
      "Buzz\n"
     ]
    }
   ],
   "source": [
    "# FizzBuzz!\n",
    "\n",
    "for number in range (1, 101):\n",
    "    if number%3==0 and number%5==0:\n",
    "        print('FizzBuzz')\n",
    "    elif number%3==0:\n",
    "        print('Fizz')\n",
    "    elif number%5==0:\n",
    "        print('Buzz')\n",
    "    else:\n",
    "        print(number)"
   ]
  },
  {
   "cell_type": "markdown",
   "id": "2e0caa2d",
   "metadata": {},
   "source": [
    "# Password Generator"
   ]
  },
  {
   "cell_type": "code",
   "execution_count": 27,
   "id": "8d34e1fd",
   "metadata": {},
   "outputs": [
    {
     "name": "stdout",
     "output_type": "stream",
     "text": [
      "Welcome to the PyPassword Generator!\n",
      "How many letters would you like in your password?\n",
      "6\n",
      "How many symbols would you like?\n",
      "4\n",
      "How many numbers would you like?\n",
      "2\n",
      "#wQF8X(+&Hs2\n"
     ]
    }
   ],
   "source": [
    "#Password Generator Project\n",
    "import random\n",
    "letters = ['a', 'b', 'c', 'd', 'e', 'f', 'g', 'h', 'i', 'j', 'k', 'l', 'm', 'n', 'o', 'p', 'q', 'r', 's', 't', 'u', 'v', 'w', 'x', 'y', 'z', 'A', 'B', 'C', 'D', 'E', 'F', 'G', 'H', 'I', 'J', 'K', 'L', 'M', 'N', 'O', 'P', 'Q', 'R', 'S', 'T', 'U', 'V', 'W', 'X', 'Y', 'Z']\n",
    "numbers = ['0', '1', '2', '3', '4', '5', '6', '7', '8', '9']\n",
    "symbols = ['!', '#', '$', '%', '&', '(', ')', '*', '+']\n",
    "\n",
    "print(\"Welcome to the PyPassword Generator!\")\n",
    "nr_letters= int(input(\"How many letters would you like in your password?\\n\")) \n",
    "nr_symbols = int(input(f\"How many symbols would you like?\\n\"))\n",
    "nr_numbers = int(input(f\"How many numbers would you like?\\n\"))\n",
    "\n",
    "#Eazy Level - Order not randomised:\n",
    "#e.g. 4 letter, 2 symbol, 2 number = JduE&!91\n",
    "\n",
    "\n",
    "#Hard Level - Order of characters randomised:\n",
    "#e.g. 4 letter, 2 symbol, 2 number = g^2jk8&P\n",
    "\n",
    "temp_pass = []\n",
    "\n",
    "for l in range(0,nr_letters):\n",
    "    choice = random.randint(0,len(letters)-1)\n",
    "    temp_pass.append(letters[choice])\n",
    "\n",
    "\n",
    "for s in range(0,nr_symbols):\n",
    "    choice = random.randint(0,len(symbols)-1)\n",
    "    temp_pass.append(symbols[choice])\n",
    "\n",
    "\n",
    "for n in range(0,nr_numbers):\n",
    "    choice = random.randint(0,len(numbers)-1)\n",
    "    temp_pass.append(numbers[choice])\n",
    "\n",
    "random.shuffle(temp_pass)\n",
    "\n",
    "password = ''\n",
    "\n",
    "for w in temp_pass:\n",
    "    password += w\n",
    "    \n",
    "print(password)\n"
   ]
  },
  {
   "cell_type": "code",
   "execution_count": 35,
   "id": "ae524315",
   "metadata": {},
   "outputs": [
    {
     "name": "stdout",
     "output_type": "stream",
     "text": [
      "sXiwEZ*++*85\n"
     ]
    }
   ],
   "source": [
    "password = ''\n",
    "for char in range(0, nr_letters):\n",
    "    password += random.choice(letters)\n",
    "\n",
    "for char in range(0, nr_symbols):\n",
    "    password += random.choice(symbols)\n",
    "    \n",
    "for char in range(0, nr_numbers):\n",
    "    password += random.choice(numbers)\n",
    "\n",
    "print (password)"
   ]
  },
  {
   "cell_type": "code",
   "execution_count": 53,
   "id": "ca6c09e1",
   "metadata": {},
   "outputs": [
    {
     "name": "stdout",
     "output_type": "stream",
     "text": [
      "Your password is: &4cz%(qEL)0F\n"
     ]
    }
   ],
   "source": [
    "password_list = []\n",
    "for char in range(0, nr_letters):\n",
    "    password_list += random.choice(letters)\n",
    "\n",
    "for char in range(0, nr_symbols):\n",
    "    password_list += random.choice(symbols)\n",
    "    \n",
    "for char in range(0, nr_numbers):\n",
    "    password_list += random.choice(numbers)\n",
    "\n",
    "random.shuffle(password_list)\n",
    "\n",
    "password = ''\n",
    "\n",
    "for char in password_list:\n",
    "    password += char\n",
    "\n",
    "print (f'Your password is: {password}')"
   ]
  },
  {
   "cell_type": "code",
   "execution_count": null,
   "id": "b8199031",
   "metadata": {},
   "outputs": [],
   "source": []
  },
  {
   "cell_type": "code",
   "execution_count": null,
   "id": "d9dbc38d",
   "metadata": {},
   "outputs": [],
   "source": []
  },
  {
   "cell_type": "code",
   "execution_count": null,
   "id": "0b084197",
   "metadata": {},
   "outputs": [],
   "source": []
  }
 ],
 "metadata": {
  "kernelspec": {
   "display_name": "Python 3 (ipykernel)",
   "language": "python",
   "name": "python3"
  },
  "language_info": {
   "codemirror_mode": {
    "name": "ipython",
    "version": 3
   },
   "file_extension": ".py",
   "mimetype": "text/x-python",
   "name": "python",
   "nbconvert_exporter": "python",
   "pygments_lexer": "ipython3",
   "version": "3.9.12"
  }
 },
 "nbformat": 4,
 "nbformat_minor": 5
}
