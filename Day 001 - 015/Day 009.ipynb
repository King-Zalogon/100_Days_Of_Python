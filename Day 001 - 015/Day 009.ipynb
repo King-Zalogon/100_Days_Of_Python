{
 "cells": [
  {
   "cell_type": "markdown",
   "id": "d7da4b3e",
   "metadata": {},
   "source": [
    "# Dictionaries & Nesting"
   ]
  },
  {
   "cell_type": "code",
   "execution_count": 1,
   "id": "f3b1d1f4",
   "metadata": {},
   "outputs": [],
   "source": [
    "# Silent Auction Project"
   ]
  },
  {
   "cell_type": "code",
   "execution_count": 6,
   "id": "f89562ca",
   "metadata": {},
   "outputs": [],
   "source": [
    "programming_dictionary = {\n",
    "    \"Bug\": \"An error in a program that prevents the program from running as expected.\", \n",
    "    \"Function\": \"A piece of code that you can easily call over and over again.\",\n",
    "}"
   ]
  },
  {
   "cell_type": "code",
   "execution_count": 10,
   "id": "9694fdbb",
   "metadata": {},
   "outputs": [
    {
     "data": {
      "text/plain": [
       "'An error in a program that prevents the program from running as expected.'"
      ]
     },
     "execution_count": 10,
     "metadata": {},
     "output_type": "execute_result"
    }
   ],
   "source": [
    "programming_dictionary['Bug']"
   ]
  },
  {
   "cell_type": "code",
   "execution_count": 12,
   "id": "819e9ea5",
   "metadata": {},
   "outputs": [
    {
     "data": {
      "text/plain": [
       "'A piece of code that you can easily call over and over again.'"
      ]
     },
     "execution_count": 12,
     "metadata": {},
     "output_type": "execute_result"
    }
   ],
   "source": [
    "programming_dictionary['Function']"
   ]
  },
  {
   "cell_type": "code",
   "execution_count": 14,
   "id": "a5dbda5e",
   "metadata": {},
   "outputs": [
    {
     "data": {
      "text/plain": [
       "dict_keys(['Bug', 'Function'])"
      ]
     },
     "execution_count": 14,
     "metadata": {},
     "output_type": "execute_result"
    }
   ],
   "source": [
    "programming_dictionary.keys()"
   ]
  },
  {
   "cell_type": "code",
   "execution_count": 15,
   "id": "de33be47",
   "metadata": {
    "scrolled": true
   },
   "outputs": [
    {
     "data": {
      "text/plain": [
       "dict_values(['An error in a program that prevents the program from running as expected.', 'A piece of code that you can easily call over and over again.'])"
      ]
     },
     "execution_count": 15,
     "metadata": {},
     "output_type": "execute_result"
    }
   ],
   "source": [
    "programming_dictionary.values()"
   ]
  },
  {
   "cell_type": "code",
   "execution_count": 16,
   "id": "b8851d49",
   "metadata": {
    "scrolled": true
   },
   "outputs": [
    {
     "data": {
      "text/plain": [
       "dict_items([('Bug', 'An error in a program that prevents the program from running as expected.'), ('Function', 'A piece of code that you can easily call over and over again.')])"
      ]
     },
     "execution_count": 16,
     "metadata": {},
     "output_type": "execute_result"
    }
   ],
   "source": [
    "programming_dictionary.items()"
   ]
  },
  {
   "cell_type": "code",
   "execution_count": 20,
   "id": "1de7a594",
   "metadata": {},
   "outputs": [],
   "source": [
    "programming_dictionary['Loop']='Definition for a Loop'"
   ]
  },
  {
   "cell_type": "code",
   "execution_count": 21,
   "id": "f72ef7f9",
   "metadata": {},
   "outputs": [
    {
     "data": {
      "text/plain": [
       "dict_items([('Bug', 'An error in a program that prevents the program from running as expected.'), ('Function', 'A piece of code that you can easily call over and over again.'), ('Loop', 'Definition for a Loop')])"
      ]
     },
     "execution_count": 21,
     "metadata": {},
     "output_type": "execute_result"
    }
   ],
   "source": [
    "programming_dictionary.items()"
   ]
  },
  {
   "cell_type": "code",
   "execution_count": 22,
   "id": "9eabcb84",
   "metadata": {},
   "outputs": [],
   "source": [
    "empty_dict = {}"
   ]
  },
  {
   "cell_type": "code",
   "execution_count": 23,
   "id": "79711875",
   "metadata": {},
   "outputs": [],
   "source": [
    "programming_dictionary['Bug']='A moth in your computer'"
   ]
  },
  {
   "cell_type": "code",
   "execution_count": 24,
   "id": "811429d9",
   "metadata": {},
   "outputs": [
    {
     "data": {
      "text/plain": [
       "'A moth in your computer'"
      ]
     },
     "execution_count": 24,
     "metadata": {},
     "output_type": "execute_result"
    }
   ],
   "source": [
    "programming_dictionary['Bug']"
   ]
  },
  {
   "cell_type": "code",
   "execution_count": 28,
   "id": "8956ff19",
   "metadata": {},
   "outputs": [
    {
     "name": "stdout",
     "output_type": "stream",
     "text": [
      "Bug\n",
      "A moth in your computer\n",
      "Function\n",
      "A piece of code that you can easily call over and over again.\n",
      "Loop\n",
      "Definition for a Loop\n"
     ]
    }
   ],
   "source": [
    "for key in programming_dictionary:\n",
    "    print(key)\n",
    "    print(programming_dictionary[key])"
   ]
  },
  {
   "cell_type": "code",
   "execution_count": 29,
   "id": "9c58067c",
   "metadata": {},
   "outputs": [
    {
     "name": "stdout",
     "output_type": "stream",
     "text": [
      "{'Harry': 'Exceeds Expectations', 'Ron': 'Acceptable', 'Hermione': 'Outstanding', 'Draco': 'Acceptable', 'Neville': 'Fail'}\n"
     ]
    }
   ],
   "source": [
    "# Grading Program\n",
    "\n",
    "student_scores = {\n",
    "  \"Harry\": 81,\n",
    "  \"Ron\": 78,\n",
    "  \"Hermione\": 99, \n",
    "  \"Draco\": 74,\n",
    "  \"Neville\": 62,\n",
    "}\n",
    "# 🚨 Don't change the code above 👆\n",
    "\n",
    "#TODO-1: Create an empty dictionary called student_grades.\n",
    "student_grades={}\n",
    "\n",
    "#TODO-2: Write your code below to add the grades to student_grades.👇\n",
    "\n",
    "for key in student_scores:\n",
    "    if student_scores[key] >90:\n",
    "        student_grades[key]='Outstanding'\n",
    "    elif student_scores[key] >80:\n",
    "        student_grades[key]='Exceeds Expectations'\n",
    "    elif student_scores[key] >70:\n",
    "        student_grades[key]='Acceptable'\n",
    "    else:\n",
    "        student_grades[key]='Fail'\n",
    "    \n",
    "\n",
    "# 🚨 Don't change the code below 👇\n",
    "print(student_grades)\n"
   ]
  },
  {
   "cell_type": "code",
   "execution_count": 30,
   "id": "bffaf548",
   "metadata": {},
   "outputs": [],
   "source": [
    "##Python Dictionaries\n",
    "\n",
    "programming_dictionary = {\n",
    "  \"Bug\": \"An error in a program that prevents the program from running as expected.\", \n",
    "  \"Function\": \"A piece of code that you can easily call over and over again.\",\n",
    "}\n",
    "\n",
    "#Retrieving items from dictionary.\n",
    "# print(programming_dictionary[\"Function\"])\n",
    "\n",
    "#Adding new items to dictionary.\n",
    "programming_dictionary[\"Loop\"] = \"The action of doing something over and over again.\"\n",
    "\n",
    "#Create an empty dictionary.\n",
    "empty_dictionary = {}\n",
    "\n",
    "#Wipe an existing dictionary\n",
    "# programming_dictionary = {}\n",
    "# print(programming_dictionary)\n",
    "\n",
    "#Edit an item in a dictionary\n",
    "programming_dictionary[\"Bug\"] = \"A moth in your computer.\"\n",
    "# print(programming_dictionary)\n",
    "\n",
    "#Loop through a dictionary\n",
    "# for key in programming_dictionary:\n",
    "#   print(key)\n",
    "#   print(programming_dictionary[key])\n",
    "\n",
    "#######################################\n",
    "\n",
    "#Nesting \n",
    "capitals = {\n",
    "  \"France\": \"Paris\",\n",
    "  \"Germany\": \"Berlin\",\n",
    "}\n",
    "\n",
    "#Nesting a List in a Dictionary\n",
    "\n",
    "travel_log = {\n",
    "  \"France\": [\"Paris\", \"Lille\", \"Dijon\"],\n",
    "  \"Germany\": [\"Berlin\", \"Hamburg\", \"Stuttgart\"],\n",
    "}\n",
    "\n",
    "#Nesting Dictionary in a Dictionary\n",
    "\n",
    "travel_log = {\n",
    "  \"France\": {\"cities_visited\": [\"Paris\", \"Lille\", \"Dijon\"], \"total_visits\": 12},\n",
    "  \"Germany\": {\"cities_visited\": [\"Berlin\", \"Hamburg\", \"Stuttgart\"], \"total_visits\": 5},\n",
    "}\n",
    "\n",
    "#Nesting Dictionaries in Lists\n",
    "\n",
    "travel_log = [\n",
    "{\n",
    "  \"country\": \"France\", \n",
    "  \"cities_visited\": [\"Paris\", \"Lille\", \"Dijon\"], \n",
    "  \"total_visits\": 12,\n",
    "},\n",
    "{\n",
    "  \"country\": \"Germany\",\n",
    "  \"cities_visited\": [\"Berlin\", \"Hamburg\", \"Stuttgart\"],\n",
    "  \"total_visits\": 5,\n",
    "},\n",
    "]"
   ]
  },
  {
   "cell_type": "code",
   "execution_count": 33,
   "id": "3b971da0",
   "metadata": {},
   "outputs": [
    {
     "name": "stdout",
     "output_type": "stream",
     "text": [
      "[{'country': 'France', 'visits': 12, 'cities': ['Paris', 'Lille', 'Dijon']}, {'country': 'Germany', 'visits': 5, 'cities': ['Berlin', 'Hamburg', 'Stuttgart']}, {'country': 'Russia', 'visits': 2, 'cities': ['Moscow', 'Saint Petersburg']}]\n"
     ]
    }
   ],
   "source": [
    "travel_log = [\n",
    "{\n",
    "  \"country\": \"France\",\n",
    "  \"visits\": 12,\n",
    "  \"cities\": [\"Paris\", \"Lille\", \"Dijon\"]\n",
    "},\n",
    "{\n",
    "  \"country\": \"Germany\",\n",
    "  \"visits\": 5,\n",
    "  \"cities\": [\"Berlin\", \"Hamburg\", \"Stuttgart\"]\n",
    "},\n",
    "]\n",
    "#🚨 Do NOT change the code above\n",
    "\n",
    "#TODO: Write the function that will allow new countries\n",
    "#to be added to the travel_log. 👇\n",
    "\n",
    "def add_new_country(country, visits, cities):\n",
    "    \n",
    "    new_dict={\n",
    "        \"country\":country, \n",
    "        \"visits\":visits, \n",
    "        \"cities\":cities\n",
    "    }\n",
    "    \n",
    "    travel_log.append(new_dict)\n",
    "    \n",
    "    \n",
    "#🚨 Do not change the code below\n",
    "add_new_country(\"Russia\", 2, [\"Moscow\", \"Saint Petersburg\"])\n",
    "print(travel_log)\n",
    "\n",
    "\n"
   ]
  },
  {
   "cell_type": "code",
   "execution_count": 35,
   "id": "deb3d15d",
   "metadata": {},
   "outputs": [
    {
     "name": "stdout",
     "output_type": "stream",
     "text": [
      "Steak\n"
     ]
    }
   ],
   "source": [
    "order = {\n",
    "    \"starter\": {1: \"Salad\", 2: \"Soup\"},\n",
    "    \"main\": {1: [\"Burger\", \"Fries\"], 2: [\"Steak\"]},\n",
    "    \"dessert\": {1: [\"Ice Cream\"], 2: []},\n",
    "}\n",
    "print(order['main'][2][0])"
   ]
  },
  {
   "cell_type": "code",
   "execution_count": 2,
   "id": "164d91ae",
   "metadata": {},
   "outputs": [
    {
     "name": "stdout",
     "output_type": "stream",
     "text": [
      "9\n"
     ]
    }
   ],
   "source": [
    "from IPython.display import clear_output\n",
    "import time \n",
    "\n",
    "for i in range(10):\n",
    "    clear_output(wait=True)\n",
    "    print(i)\n",
    "    time.sleep(1)"
   ]
  },
  {
   "cell_type": "markdown",
   "id": "ce0c2191",
   "metadata": {},
   "source": [
    "# Silent Auction Project"
   ]
  },
  {
   "cell_type": "code",
   "execution_count": 44,
   "id": "89acee02",
   "metadata": {},
   "outputs": [
    {
     "name": "stdout",
     "output_type": "stream",
     "text": [
      "What is your name?: Daf\n",
      "What is your bid?: $9\n",
      "Are there any other bidders? Type 'yes or 'no'.\n",
      "no\n",
      "The winner is Daf with a bid of $9\n"
     ]
    }
   ],
   "source": [
    "from IPython.display import clear_output\n",
    "from art_auction import logo\n",
    "print(logo)\n",
    "\n",
    "bids = {}\n",
    "bidding_finished = False\n",
    "\n",
    "def find_highest_bidder(bidding_record):\n",
    "    highest_bid = 0\n",
    "    winner = \"\"\n",
    "    # bidding_record = {\"Angela\": 123, \"James\": 321}\n",
    "    for bidder in bidding_record:\n",
    "        bid_amount = bidding_record[bidder]\n",
    "        if bid_amount > highest_bid: \n",
    "            highest_bid = bid_amount\n",
    "            winner = bidder\n",
    "    print(f\"The winner is {winner} with a bid of ${highest_bid}\")\n",
    "\n",
    "while not bidding_finished:\n",
    "    name = input(\"What is your name?: \")\n",
    "    price = int(input(\"What is your bid?: $\"))\n",
    "    bids[name] = price\n",
    "    should_continue = input(\"Are there any other bidders? Type 'yes or 'no'.\\n\")\n",
    "    if should_continue == \"no\":\n",
    "        bidding_finished = True\n",
    "        find_highest_bidder(bids)\n",
    "    elif should_continue == \"yes\":\n",
    "        clear_output(wait=True)"
   ]
  },
  {
   "cell_type": "code",
   "execution_count": null,
   "id": "4b8ceda1",
   "metadata": {},
   "outputs": [],
   "source": []
  },
  {
   "cell_type": "code",
   "execution_count": null,
   "id": "57f5e1f9",
   "metadata": {},
   "outputs": [],
   "source": []
  },
  {
   "cell_type": "code",
   "execution_count": null,
   "id": "eabc4af7",
   "metadata": {},
   "outputs": [],
   "source": []
  },
  {
   "cell_type": "code",
   "execution_count": null,
   "id": "1fcf48fa",
   "metadata": {},
   "outputs": [],
   "source": []
  }
 ],
 "metadata": {
  "kernelspec": {
   "display_name": "Python 3 (ipykernel)",
   "language": "python",
   "name": "python3"
  },
  "language_info": {
   "codemirror_mode": {
    "name": "ipython",
    "version": 3
   },
   "file_extension": ".py",
   "mimetype": "text/x-python",
   "name": "python",
   "nbconvert_exporter": "python",
   "pygments_lexer": "ipython3",
   "version": "3.9.12"
  }
 },
 "nbformat": 4,
 "nbformat_minor": 5
}
