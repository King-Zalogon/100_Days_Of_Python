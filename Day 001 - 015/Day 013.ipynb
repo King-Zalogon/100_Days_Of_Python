{
 "cells": [
  {
   "cell_type": "markdown",
   "id": "85273363",
   "metadata": {},
   "source": [
    "# Debugging"
   ]
  },
  {
   "cell_type": "code",
   "execution_count": 2,
   "id": "411b683b",
   "metadata": {},
   "outputs": [
    {
     "name": "stdout",
     "output_type": "stream",
     "text": [
      "You got it\n"
     ]
    }
   ],
   "source": [
    "############DEBUGGING#####################\n",
    "\n",
    "# Describe Problem\n",
    "def my_function():\n",
    "    for i in range(1, 21):\n",
    "        if i == 20:\n",
    "            print(\"You got it\")\n",
    "my_function()\n",
    "\n",
    "# # Reproduce the Bug\n",
    "# from random import randint\n",
    "# dice_imgs = [\"❶\", \"❷\", \"❸\", \"❹\", \"❺\", \"❻\"]\n",
    "# dice_num = randint(1, 6)\n",
    "# print(dice_imgs[dice_num])\n",
    "\n",
    "# # Play Computer\n",
    "# year = int(input(\"What's your year of birth?\"))\n",
    "# if year > 1980 and year < 1994:\n",
    "#   print(\"You are a millenial.\")\n",
    "# elif year > 1994:\n",
    "#   print(\"You are a Gen Z.\")\n",
    "\n",
    "# # Fix the Errors\n",
    "# age = input(\"How old are you?\")\n",
    "# if age > 18:\n",
    "# print(\"You can drive at age {age}.\")\n",
    "\n",
    "# #Print is Your Friend\n",
    "# pages = 0\n",
    "# word_per_page = 0\n",
    "# pages = int(input(\"Number of pages: \"))\n",
    "# word_per_page == int(input(\"Number of words per page: \"))\n",
    "# total_words = pages * word_per_page\n",
    "# print(total_words)\n",
    "\n",
    "# #Use a Debugger\n",
    "# def mutate(a_list):\n",
    "#   b_list = []\n",
    "#   for item in a_list:\n",
    "#     new_item = item * 2\n",
    "#   b_list.append(new_item)\n",
    "#   print(b_list)\n",
    "\n",
    "# mutate([1,2,3,5,8,13])"
   ]
  },
  {
   "cell_type": "code",
   "execution_count": 5,
   "id": "4acb7581",
   "metadata": {},
   "outputs": [
    {
     "name": "stdout",
     "output_type": "stream",
     "text": [
      "You got it\n"
     ]
    }
   ],
   "source": [
    "# Describe Problem\n",
    "def my_function():\n",
    "    for i in range(1, 21):\n",
    "        if i == 20:\n",
    "            print(\"You got it\")\n",
    "my_function()"
   ]
  },
  {
   "cell_type": "code",
   "execution_count": 6,
   "id": "30530e02",
   "metadata": {},
   "outputs": [
    {
     "name": "stdout",
     "output_type": "stream",
     "text": [
      "❻\n"
     ]
    }
   ],
   "source": [
    "# Reproduce the Bug\n",
    "from random import randint\n",
    "dice_imgs = [\"❶\", \"❷\", \"❸\", \"❹\", \"❺\", \"❻\"]\n",
    "dice_num = randint(0, 5)\n",
    "print(dice_imgs[dice_num])"
   ]
  },
  {
   "cell_type": "code",
   "execution_count": 7,
   "id": "362009e2",
   "metadata": {},
   "outputs": [
    {
     "name": "stdout",
     "output_type": "stream",
     "text": [
      "What's your year of birth?1994\n",
      "You are a Gen Z.\n"
     ]
    }
   ],
   "source": [
    "# Play Computer\n",
    "year = int(input(\"What's your year of birth?\"))\n",
    "if year > 1980 and year < 1994:\n",
    "    print(\"You are a millenial.\")\n",
    "elif year >= 1994:\n",
    "    print(\"You are a Gen Z.\")"
   ]
  },
  {
   "cell_type": "code",
   "execution_count": 10,
   "id": "14ee2f2a",
   "metadata": {
    "scrolled": true
   },
   "outputs": [
    {
     "name": "stdout",
     "output_type": "stream",
     "text": [
      "How old are you? 19\n",
      "You can drive at age 19.\n"
     ]
    }
   ],
   "source": [
    "# Fix the Errors\n",
    "age = int(input(\"How old are you? \"))\n",
    "if age > 18:\n",
    "    print(f\"You can drive at age {age}.\")"
   ]
  },
  {
   "cell_type": "code",
   "execution_count": 14,
   "id": "ba8e400c",
   "metadata": {
    "scrolled": true
   },
   "outputs": [
    {
     "name": "stdout",
     "output_type": "stream",
     "text": [
      "Number of pages: 5\n",
      "5\n",
      "Number of words per page: 9\n",
      "9\n",
      "45\n"
     ]
    }
   ],
   "source": [
    "#Print is Your Friend\n",
    "pages = 0\n",
    "word_per_page = 0\n",
    "pages = int(input(\"Number of pages: \"))\n",
    "print(pages)\n",
    "word_per_page = int(input(\"Number of words per page: \"))\n",
    "print(word_per_page)\n",
    "total_words = pages * word_per_page\n",
    "print(total_words)"
   ]
  },
  {
   "cell_type": "code",
   "execution_count": 15,
   "id": "ba9a354e",
   "metadata": {},
   "outputs": [
    {
     "name": "stdout",
     "output_type": "stream",
     "text": [
      "[2, 4, 6, 10, 16, 26]\n"
     ]
    }
   ],
   "source": [
    "#Use a Debugger\n",
    "def mutate(a_list):\n",
    "    b_list = []\n",
    "    for item in a_list:\n",
    "        new_item = item * 2\n",
    "        b_list.append(new_item)\n",
    "    print(b_list)\n",
    "\n",
    "mutate([1,2,3,5,8,13])"
   ]
  }
 ],
 "metadata": {
  "kernelspec": {
   "display_name": "Python 3 (ipykernel)",
   "language": "python",
   "name": "python3"
  },
  "language_info": {
   "codemirror_mode": {
    "name": "ipython",
    "version": 3
   },
   "file_extension": ".py",
   "mimetype": "text/x-python",
   "name": "python",
   "nbconvert_exporter": "python",
   "pygments_lexer": "ipython3",
   "version": "3.9.12"
  }
 },
 "nbformat": 4,
 "nbformat_minor": 5
}
