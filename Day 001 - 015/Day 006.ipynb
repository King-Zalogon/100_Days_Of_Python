{
 "cells": [
  {
   "cell_type": "code",
   "execution_count": 1,
   "id": "87441983",
   "metadata": {},
   "outputs": [],
   "source": [
    "# Functions, Code Blocks and While Loops"
   ]
  },
  {
   "cell_type": "code",
   "execution_count": 2,
   "id": "415d7c84",
   "metadata": {},
   "outputs": [],
   "source": [
    "# https://docs.python.org/3/library/functions.html"
   ]
  },
  {
   "cell_type": "markdown",
   "id": "dad7ce81",
   "metadata": {},
   "source": [
    "# Creating Functions"
   ]
  },
  {
   "cell_type": "code",
   "execution_count": 3,
   "id": "b660864b",
   "metadata": {},
   "outputs": [
    {
     "name": "stdout",
     "output_type": "stream",
     "text": [
      "I'm function!\n"
     ]
    }
   ],
   "source": [
    "def my_function():\n",
    "    print(\"I'm function!\")\n",
    "    \n",
    "my_function()"
   ]
  },
  {
   "cell_type": "code",
   "execution_count": null,
   "id": "7ccc8817",
   "metadata": {},
   "outputs": [],
   "source": [
    "# https://reeborg.ca/reeborg.html?lang=en&mode=python&menu=worlds%2Fmenus%2Freeborg_intro_en.json&name=Hurdle%201&url=worlds%2Ftutorial_en%2Fhurdle1.json\n",
    "\n",
    "def turn_right():\n",
    "    turn_left()\n",
    "    turn_left()\n",
    "    turn_left()\n",
    "\n",
    "def jump_x(x):\n",
    "    for j in range(1,x+1):\n",
    "        move()\n",
    "        turn_left()\n",
    "        move()\n",
    "        turn_right()\n",
    "        move()\n",
    "        turn_right()\n",
    "        move()\n",
    "        turn_left()\n",
    "        \n",
    "jump_x(6)\n",
    "        "
   ]
  },
  {
   "cell_type": "code",
   "execution_count": null,
   "id": "a9182083",
   "metadata": {},
   "outputs": [],
   "source": [
    "def jump():\n",
    "    while not at_goal():\n",
    "        move()\n",
    "        turn_left()\n",
    "        move()\n",
    "        turn_right()\n",
    "        move()\n",
    "        turn_right()\n",
    "        move()\n",
    "        turn_left()\n"
   ]
  },
  {
   "cell_type": "code",
   "execution_count": null,
   "id": "ef165f55",
   "metadata": {},
   "outputs": [],
   "source": [
    "def jump():\n",
    "    while wall_in_front():\n",
    "        if not at_goal():\n",
    "            turn_left()\n",
    "            move()\n",
    "            turn_right()\n",
    "            move()\n",
    "            turn_right()\n",
    "            move()\n",
    "            turn_left()\n",
    "        else:\n",
    "            break\n",
    "\n",
    "def advance():\n",
    "    while front_is_clear():\n",
    "        if not at_goal():\n",
    "            move()\n",
    "        else:\n",
    "            break\n",
    "        \n",
    "def hurdles():\n",
    "    while not at_goal():\n",
    "        advance()\n",
    "        jump()"
   ]
  },
  {
   "cell_type": "code",
   "execution_count": null,
   "id": "63fedfed",
   "metadata": {},
   "outputs": [],
   "source": [
    "def jump():\n",
    "    while wall_in_front():\n",
    "        if not at_goal():\n",
    "            turn_left()\n",
    "            while wall_on_right():\n",
    "                move()\n",
    "            turn_right()\n",
    "            move()\n",
    "            turn_right()\n",
    "            while front_is_clear():\n",
    "                move()\n",
    "            turn_left()\n",
    "\n",
    "def advance():\n",
    "    while front_is_clear():\n",
    "        if not at_goal():\n",
    "            move()\n",
    "        else:\n",
    "            break\n",
    "        \n",
    "def hurdles():\n",
    "    while not at_goal():\n",
    "        advance()\n",
    "        jump()\n",
    "\n",
    "hurdles()"
   ]
  },
  {
   "cell_type": "code",
   "execution_count": null,
   "id": "3947de8a",
   "metadata": {},
   "outputs": [],
   "source": [
    "def jump():\n",
    "    turn_left()\n",
    "    while wall_on_right():\n",
    "        move()\n",
    "    turn_right()\n",
    "    move()\n",
    "    turn_right()\n",
    "    while front_is_clear():\n",
    "        move()\n",
    "    turn_left()\n",
    "\n",
    "while not at_goal():\n",
    "    if wall_in_front():\n",
    "        jump()\n",
    "    else:\n",
    "        move()"
   ]
  },
  {
   "cell_type": "code",
   "execution_count": null,
   "id": "25d62d11",
   "metadata": {},
   "outputs": [],
   "source": [
    "while not at_goal():\n",
    "    while front_is_clear():\n",
    "        move()\n",
    "        if at_goal():\n",
    "            break\n",
    "        elif not wall_on_right():\n",
    "            turn_right()\n",
    "    else:\n",
    "        turn_left()"
   ]
  },
  {
   "cell_type": "code",
   "execution_count": null,
   "id": "a95c2819",
   "metadata": {},
   "outputs": [],
   "source": [
    "while not at_goal():\n",
    "    while front_is_clear():\n",
    "        move()\n",
    "        if at_goal():\n",
    "            break\n",
    "        if front_is_clear():\n",
    "            move()\n",
    "            break\n",
    "    if not wall_on_right():\n",
    "            turn_right()\n",
    "    else:\n",
    "        turn_left()"
   ]
  },
  {
   "cell_type": "code",
   "execution_count": null,
   "id": "d53d6315",
   "metadata": {},
   "outputs": [],
   "source": [
    "while front_is_clear():\n",
    "    move()\n",
    "    \n",
    "turn_left()\n",
    "\n",
    "while not at_goal():\n",
    "    while front_is_clear():\n",
    "        move()\n",
    "        if at_goal():\n",
    "            break\n",
    "        elif not wall_on_right():\n",
    "            turn_right()\n",
    "    else:\n",
    "        turn_left()"
   ]
  },
  {
   "cell_type": "code",
   "execution_count": null,
   "id": "a794a1d9",
   "metadata": {},
   "outputs": [],
   "source": []
  }
 ],
 "metadata": {
  "kernelspec": {
   "display_name": "Python 3 (ipykernel)",
   "language": "python",
   "name": "python3"
  },
  "language_info": {
   "codemirror_mode": {
    "name": "ipython",
    "version": 3
   },
   "file_extension": ".py",
   "mimetype": "text/x-python",
   "name": "python",
   "nbconvert_exporter": "python",
   "pygments_lexer": "ipython3",
   "version": "3.9.12"
  }
 },
 "nbformat": 4,
 "nbformat_minor": 5
}
