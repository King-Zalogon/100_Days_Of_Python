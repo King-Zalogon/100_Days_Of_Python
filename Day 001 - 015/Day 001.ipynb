{
 "cells": [
  {
   "cell_type": "code",
   "execution_count": 1,
   "id": "54195023",
   "metadata": {},
   "outputs": [
    {
     "name": "stdout",
     "output_type": "stream",
     "text": [
      "Praise the Omnissiah!\n"
     ]
    }
   ],
   "source": [
    "print('Praise the Omnissiah!')"
   ]
  },
  {
   "cell_type": "code",
   "execution_count": 4,
   "id": "d779c40c",
   "metadata": {},
   "outputs": [
    {
     "name": "stdout",
     "output_type": "stream",
     "text": [
      "Praise the Omnissiah!\n",
      "Praise the Omnissiah!\n",
      "Praise the Omnissiah!\n",
      "\n"
     ]
    }
   ],
   "source": [
    "print('Praise the Omnissiah!\\n'*3)"
   ]
  },
  {
   "cell_type": "code",
   "execution_count": 5,
   "id": "bce2ef44",
   "metadata": {},
   "outputs": [
    {
     "name": "stdout",
     "output_type": "stream",
     "text": [
      "What is your name?Gonzalo\n",
      "7\n"
     ]
    }
   ],
   "source": [
    "name = input('What is your name?')\n",
    "print(len(name))"
   ]
  },
  {
   "cell_type": "code",
   "execution_count": 6,
   "id": "6446d95a",
   "metadata": {},
   "outputs": [
    {
     "name": "stdout",
     "output_type": "stream",
     "text": [
      "What is your name?Gonzalo\n",
      "Hello Gonzalo\n"
     ]
    }
   ],
   "source": [
    "print('Hello '+ input('What is your name?'))"
   ]
  },
  {
   "cell_type": "code",
   "execution_count": 7,
   "id": "8f8f6812",
   "metadata": {},
   "outputs": [
    {
     "name": "stdout",
     "output_type": "stream",
     "text": [
      "a: 9\n",
      "b: 3\n",
      "a: 3\n",
      "b: 9\n"
     ]
    }
   ],
   "source": [
    "# 🚨 Don't change the code below 👇\n",
    "a = input(\"a: \")\n",
    "b = input(\"b: \")\n",
    "# 🚨 Don't change the code above 👆\n",
    "\n",
    "####################################\n",
    "#Write your code below this line 👇\n",
    "\n",
    "a,b = b,a\n",
    "\n",
    "\n",
    "#Write your code above this line 👆\n",
    "####################################\n",
    "\n",
    "# 🚨 Don't change the code below 👇\n",
    "print(\"a: \" + a)\n",
    "print(\"b: \" + b)\n"
   ]
  },
  {
   "cell_type": "code",
   "execution_count": null,
   "id": "6f805119",
   "metadata": {},
   "outputs": [],
   "source": []
  },
  {
   "cell_type": "markdown",
   "id": "73d6282d",
   "metadata": {},
   "source": [
    "# Day 1 Project: Band Name Generator"
   ]
  },
  {
   "cell_type": "code",
   "execution_count": 9,
   "id": "adf7e9aa",
   "metadata": {},
   "outputs": [
    {
     "name": "stdout",
     "output_type": "stream",
     "text": [
      "Welcome to the Band Name Generator.\n",
      "What's the name of the city you grew up in?\n",
      "La Pampa\n",
      "What's the name of your pet?\n",
      "Vespa\n",
      "Your band's name is \"La Pampa Vespa\"\n"
     ]
    }
   ],
   "source": [
    "# Band Name Generator\n",
    "\"\"\"\n",
    "Takes input from user, asking city and pet name, \n",
    "then concatenates both to form the band's name.\n",
    "\"\"\"\n",
    "\n",
    "print('Welcome to the Band Name Generator.')\n",
    "print(\"What's the name of the city you grew up in?\")\n",
    "city = input('')\n",
    "print(\"What's the name of your pet?\")\n",
    "pet = input('')\n",
    "print(f\"Your band's name is \\\"{city} {pet}\\\"\")\n",
    "\n",
    "\n"
   ]
  },
  {
   "cell_type": "code",
   "execution_count": null,
   "id": "7f04a9fb",
   "metadata": {},
   "outputs": [],
   "source": []
  }
 ],
 "metadata": {
  "kernelspec": {
   "display_name": "Python 3 (ipykernel)",
   "language": "python",
   "name": "python3"
  },
  "language_info": {
   "codemirror_mode": {
    "name": "ipython",
    "version": 3
   },
   "file_extension": ".py",
   "mimetype": "text/x-python",
   "name": "python",
   "nbconvert_exporter": "python",
   "pygments_lexer": "ipython3",
   "version": "3.9.12"
  }
 },
 "nbformat": 4,
 "nbformat_minor": 5
}
