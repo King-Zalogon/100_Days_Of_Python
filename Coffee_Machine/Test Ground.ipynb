{
 "cells": [
  {
   "cell_type": "code",
   "execution_count": 90,
   "id": "bfa4fd2d",
   "metadata": {},
   "outputs": [],
   "source": [
    "MENU = {\n",
    "    \"espresso\": {\n",
    "        \"ingredients\": {\n",
    "            \"water\": 50,\n",
    "            \"coffee\": 18,\n",
    "        },\n",
    "        \"cost\": 1.5,\n",
    "    },\n",
    "    \"latte\": {\n",
    "        \"ingredients\": {\n",
    "            \"water\": 200,\n",
    "            \"milk\": 150,\n",
    "            \"coffee\": 24,\n",
    "        },\n",
    "        \"cost\": 2.5,\n",
    "    },\n",
    "    \"cappuccino\": {\n",
    "        \"ingredients\": {\n",
    "            \"water\": 250,\n",
    "            \"milk\": 100,\n",
    "            \"coffee\": 24,\n",
    "        },\n",
    "        \"cost\": 3.0,\n",
    "    }\n",
    "}\n",
    "\n",
    "resources = {\n",
    "    \"water\": [300, 'ml'],\n",
    "    \"milk\": [200, 'ml'],\n",
    "    \"coffee\": [100, 'gr'],\n",
    "    \"funds\": [100, \"$\"],\n",
    "}"
   ]
  },
  {
   "cell_type": "code",
   "execution_count": 92,
   "id": "52332461",
   "metadata": {},
   "outputs": [],
   "source": [
    "machine_on = True\n",
    "\n",
    "quarters = 0.25\n",
    "dimes = 0.10\n",
    "nickles = 0.05\n",
    "pennies = 0.01\n",
    "\n",
    "coins_value = {'quarters': 0.25, 'dimes': 0.10, 'nickles': 0.05, 'pennies': 0.01}\n",
    "\n",
    "payment = 0\n",
    "\n",
    "paid = False"
   ]
  },
  {
   "cell_type": "code",
   "execution_count": 12,
   "id": "bec5da57",
   "metadata": {},
   "outputs": [
    {
     "name": "stdout",
     "output_type": "stream",
     "text": [
      "What would you like? (espresso/latte/cappuccino): torta\n",
      "That's not a valid option. Type 'espresso', 'latte' or 'cappuccino': torta\n",
      "That's not a valid option. Type 'espresso', 'latte' or 'cappuccino': latte\n",
      "You want a latte, great choice!\n",
      "latte\n"
     ]
    }
   ],
   "source": [
    "def user_choice():\n",
    "\n",
    "    choices = ['espresso', 'latte', 'cappuccino']\n",
    "    choice = input(\"What would you like? (espresso/latte/cappuccino): \").lower()\n",
    "    \n",
    "    checked = False\n",
    "    \n",
    "    while checked == False:\n",
    "        try:\n",
    "            MENU[choice]\n",
    "\n",
    "        except:\n",
    "            choice = input(\"That's not a valid option. Type 'espresso', 'latte' or 'cappuccino': \").lower()\n",
    "\n",
    "        else:\n",
    "            print(f'You want a {choice}, great choice!')\n",
    "            return choice\n",
    "\n",
    "\n",
    "order = user_choice()\n",
    "print(order)"
   ]
  },
  {
   "cell_type": "code",
   "execution_count": 19,
   "id": "5bceaa4b",
   "metadata": {},
   "outputs": [],
   "source": [
    "quarters = 0.25\n",
    "dimes = 0.10\n",
    "nickles = 0.05\n",
    "pennies = 0.01\n",
    "\n",
    "coins_inserted = {'quarters': 5, 'dimes': 1, 'nickles': 4, 'pennies': 3}"
   ]
  },
  {
   "cell_type": "code",
   "execution_count": 22,
   "id": "0214ada0",
   "metadata": {
    "scrolled": true
   },
   "outputs": [
    {
     "name": "stdout",
     "output_type": "stream",
     "text": [
      "5\n",
      "5\n",
      "1\n",
      "6\n",
      "4\n",
      "10\n",
      "3\n",
      "13\n"
     ]
    }
   ],
   "source": [
    "def money(coins_inserted):\n",
    "    \n",
    "    money = 0\n",
    "    \n",
    "    for coin in coins_inserted:\n",
    "        print(coins_inserted[coin])\n",
    "        money += coins_inserted[coin]\n",
    "        print(money)\n",
    "        \n",
    "money(coins_inserted)"
   ]
  },
  {
   "cell_type": "code",
   "execution_count": 25,
   "id": "cbd5f87a",
   "metadata": {},
   "outputs": [],
   "source": [
    "choice = 'report'"
   ]
  },
  {
   "cell_type": "code",
   "execution_count": 43,
   "id": "fd0bb8d5",
   "metadata": {},
   "outputs": [],
   "source": [
    "def report(choice, resources):\n",
    "\n",
    "    if choice == 'report':\n",
    "        print('Yes, master.\\nHere is the current status:')\n",
    "        for item in resources:\n",
    "            if item == 'funds':\n",
    "                print(f'{(item).capitalize()}: {resources[item][1]}{resources[item][0]}')\n",
    "            else:\n",
    "                print(f'{(item).capitalize()}: {resources[item][0]}{resources[item][1]}')\n",
    "\n",
    "\n",
    "        "
   ]
  },
  {
   "cell_type": "code",
   "execution_count": 44,
   "id": "9c38d4e6",
   "metadata": {
    "scrolled": true
   },
   "outputs": [
    {
     "name": "stdout",
     "output_type": "stream",
     "text": [
      "Yes, master.\n",
      "Here is the current status:\n",
      "Water: 300ml\n",
      "Milk: 200ml\n",
      "Coffee: 100gr\n",
      "Funds: $100\n"
     ]
    }
   ],
   "source": [
    "report(choice, resources)"
   ]
  },
  {
   "cell_type": "code",
   "execution_count": 68,
   "id": "cf3bb126",
   "metadata": {},
   "outputs": [],
   "source": [
    "choice = 'off'\n",
    "\n",
    "def turn_off(choice):\n",
    "    if choice == 'off':\n",
    "        print('Ok, night night!')\n",
    "        return False"
   ]
  },
  {
   "cell_type": "code",
   "execution_count": 69,
   "id": "412127b3",
   "metadata": {},
   "outputs": [
    {
     "name": "stdout",
     "output_type": "stream",
     "text": [
      "Ok, night night!\n"
     ]
    },
    {
     "data": {
      "text/plain": [
       "False"
      ]
     },
     "execution_count": 69,
     "metadata": {},
     "output_type": "execute_result"
    }
   ],
   "source": [
    "turn_off(choice)"
   ]
  },
  {
   "cell_type": "code",
   "execution_count": 70,
   "id": "6e5006bc",
   "metadata": {
    "scrolled": true
   },
   "outputs": [
    {
     "name": "stdout",
     "output_type": "stream",
     "text": [
      "I'm on\n",
      "Ok, night night!\n",
      "I'm off...\n"
     ]
    }
   ],
   "source": [
    "machine_on = True\n",
    "while machine_on != False:\n",
    "    print(\"I'm on\")\n",
    "    machine_on = turn_off(choice)\n",
    "\n",
    "print(\"I'm off...\")"
   ]
  },
  {
   "cell_type": "code",
   "execution_count": 89,
   "id": "fcd2dc04",
   "metadata": {
    "scrolled": true
   },
   "outputs": [
    {
     "name": "stdout",
     "output_type": "stream",
     "text": [
      "Sorry, not enough water for that option\n"
     ]
    },
    {
     "data": {
      "text/plain": [
       "False"
      ]
     },
     "execution_count": 89,
     "metadata": {},
     "output_type": "execute_result"
    }
   ],
   "source": [
    "choice = 'espresso'\n",
    "def enough_resources(choice, resources):\n",
    "\n",
    "    for resource in MENU[choice][\"ingredients\"]:\n",
    "        needed = MENU[choice][\"ingredients\"][resource]\n",
    "        current = resources[resource][0]\n",
    "        if needed > current:\n",
    "            print(f'Sorry, not enough {resource} for that option')\n",
    "            return False\n",
    "    return True\n",
    "\n",
    "\n",
    "enough_resources(choice, resources)\n"
   ]
  },
  {
   "cell_type": "code",
   "execution_count": 88,
   "id": "5620d637",
   "metadata": {},
   "outputs": [
    {
     "name": "stdout",
     "output_type": "stream",
     "text": [
      "We've just run out of water\n"
     ]
    }
   ],
   "source": [
    "def adjust_resources(choice, resources):\n",
    "\n",
    "    for resource in MENU[choice][\"ingredients\"]:\n",
    "        needed = MENU[choice][\"ingredients\"][resource]\n",
    "        resources[resource][0] -= needed\n",
    "        if resources[resource][0] == 0:\n",
    "            print(f\"We've just run out of {resource}\")\n",
    "\n",
    "\n",
    "adjust_resource(choice, resources)"
   ]
  },
  {
   "cell_type": "code",
   "execution_count": 144,
   "id": "1a5d2af9",
   "metadata": {},
   "outputs": [],
   "source": [
    "def money(coins_inserted):\n",
    "    cash = 0\n",
    "    for coin in coins_inserted:\n",
    "        cash += coins_value[coin] * coins_inserted[coin]\n",
    "\n",
    "    return cash\n",
    "\n",
    "\n",
    "def charge(choice, payment):\n",
    "\n",
    "    price = MENU[choice][\"cost\"]\n",
    "\n",
    "    coins_inserted = {'quarters': 0, 'dimes': 0, 'nickles': 0, 'pennies': 0}\n",
    "\n",
    "    print(f'The price of your {choice} is ${price}')\n",
    "    print('Please specify amount of each coin inserted.')\n",
    "\n",
    "    for coin in coins_inserted:\n",
    "        try:\n",
    "            coins_inserted[coin] = int(input(f'How many {coin} are you entering? '))\n",
    "        \n",
    "        except:\n",
    "            print(\"That's not a valid amount. It will be taken as equal to '0'. We are sorry\")\n",
    "            coins_inserted[coin] = 0\n",
    "            \n",
    "        else:\n",
    "            payment = money(coins_inserted)\n",
    "    \n",
    "    print(f\"You've enter a total amount of ${payment}\")\n",
    "    \n",
    "    if payment < price:\n",
    "        print(\"Sorry that's not enough money. Money refunded.\")\n",
    "        cash = 0\n",
    "    elif payment == price:\n",
    "        print('Thanks. Your order will be ready soon.')\n",
    "        resources['funds'][0] += price\n",
    "        paid = True\n",
    "    elif payment > price:\n",
    "        print(f'Thanks, here is your change: {round((payment - price),2)}. Your order will be ready soon')\n",
    "        resources['funds'][0] += price\n",
    "        paid = True\n",
    "    else:\n",
    "        print('Ooops, something went wrong with your payment')\n",
    "\n",
    "    paid = True\n",
    "\n",
    "    return paid\n",
    "\n"
   ]
  },
  {
   "cell_type": "code",
   "execution_count": 145,
   "id": "aad06d5c",
   "metadata": {},
   "outputs": [],
   "source": [
    "resources['funds'][0] = 100\n"
   ]
  },
  {
   "cell_type": "code",
   "execution_count": 146,
   "id": "562dfd89",
   "metadata": {
    "scrolled": false
   },
   "outputs": [
    {
     "name": "stdout",
     "output_type": "stream",
     "text": [
      "The price of your espresso is $1.5\n",
      "Please specify amount of each coin inserted.\n",
      "How many quarters are you entering? 9\n",
      "How many dimes are you entering? \n",
      "That's not a valid amount. It will be taken as equal to '0'. We are sorry\n",
      "How many nickles are you entering? \n",
      "That's not a valid amount. It will be taken as equal to '0'. We are sorry\n",
      "How many pennies are you entering? \n",
      "That's not a valid amount. It will be taken as equal to '0'. We are sorry\n",
      "You've enter a total amount of $2.25\n",
      "Thanks, here is your change: 0.75. Your order will be ready soon\n"
     ]
    },
    {
     "data": {
      "text/plain": [
       "True"
      ]
     },
     "execution_count": 146,
     "metadata": {},
     "output_type": "execute_result"
    }
   ],
   "source": [
    "charge(choice, payment)"
   ]
  },
  {
   "cell_type": "code",
   "execution_count": 147,
   "id": "1166287f",
   "metadata": {},
   "outputs": [
    {
     "data": {
      "text/plain": [
       "101.5"
      ]
     },
     "execution_count": 147,
     "metadata": {},
     "output_type": "execute_result"
    }
   ],
   "source": [
    "resources['funds'][0]"
   ]
  },
  {
   "cell_type": "code",
   "execution_count": 152,
   "id": "74ceab6c",
   "metadata": {},
   "outputs": [
    {
     "name": "stdout",
     "output_type": "stream",
     "text": [
      "...\n"
     ]
    }
   ],
   "source": [
    "from IPython.display import clear_output\n",
    "import time\n",
    "for i in range(4):\n",
    "    loader = '.'\n",
    "    clear_output(wait=True)\n",
    "    print(loader*i)\n",
    "    time.sleep(1)"
   ]
  }
 ],
 "metadata": {
  "kernelspec": {
   "display_name": "Python 3 (ipykernel)",
   "language": "python",
   "name": "python3"
  },
  "language_info": {
   "codemirror_mode": {
    "name": "ipython",
    "version": 3
   },
   "file_extension": ".py",
   "mimetype": "text/x-python",
   "name": "python",
   "nbconvert_exporter": "python",
   "pygments_lexer": "ipython3",
   "version": "3.9.12"
  }
 },
 "nbformat": 4,
 "nbformat_minor": 5
}
