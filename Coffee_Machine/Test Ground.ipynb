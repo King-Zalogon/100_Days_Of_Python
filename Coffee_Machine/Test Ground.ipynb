{
 "cells": [
  {
   "cell_type": "code",
   "execution_count": 37,
   "id": "344f0598",
   "metadata": {},
   "outputs": [],
   "source": [
    "MENU = {\n",
    "    \"espresso\": {\n",
    "        \"ingredients\": {\n",
    "            \"water\": 50,\n",
    "            \"coffee\": 18,\n",
    "        },\n",
    "        \"cost\": 1.5,\n",
    "    },\n",
    "    \"latte\": {\n",
    "        \"ingredients\": {\n",
    "            \"water\": 200,\n",
    "            \"milk\": 150,\n",
    "            \"coffee\": 24,\n",
    "        },\n",
    "        \"cost\": 2.5,\n",
    "    },\n",
    "    \"cappuccino\": {\n",
    "        \"ingredients\": {\n",
    "            \"water\": 250,\n",
    "            \"milk\": 100,\n",
    "            \"coffee\": 24,\n",
    "        },\n",
    "        \"cost\": 3.0,\n",
    "    }\n",
    "}\n",
    "\n",
    "resources = {\n",
    "    \"water\": [300, 'ml'],\n",
    "    \"milk\": [200, 'ml'],\n",
    "    \"coffee\": [100, 'gr'],\n",
    "    \"funds\": [100, \"$\"],\n",
    "}"
   ]
  },
  {
   "cell_type": "code",
   "execution_count": 24,
   "id": "b1d28a59",
   "metadata": {},
   "outputs": [],
   "source": [
    "machine_on = True\n",
    "\n",
    "quarters = 0.25\n",
    "dimes = 0.10\n",
    "nickles = 0.05\n",
    "pennies = 0.01\n",
    "\n",
    "coins_value = {'quarters': 0.25, 'dimes': 0.10, 'nickles': 0.05, 'pennies': 0.01}\n",
    "\n",
    "funds = 0\n",
    "payment = 0\n",
    "\n",
    "paid = False"
   ]
  },
  {
   "cell_type": "code",
   "execution_count": 12,
   "id": "3002fd27",
   "metadata": {},
   "outputs": [
    {
     "name": "stdout",
     "output_type": "stream",
     "text": [
      "What would you like? (espresso/latte/cappuccino): torta\n",
      "That's not a valid option. Type 'espresso', 'latte' or 'cappuccino': torta\n",
      "That's not a valid option. Type 'espresso', 'latte' or 'cappuccino': latte\n",
      "You want a latte, great choice!\n",
      "latte\n"
     ]
    }
   ],
   "source": [
    "def user_choice():\n",
    "\n",
    "    choices = ['espresso', 'latte', 'cappuccino']\n",
    "    choice = input(\"What would you like? (espresso/latte/cappuccino): \").lower()\n",
    "    \n",
    "    checked = False\n",
    "    \n",
    "    while checked == False:\n",
    "        try:\n",
    "            MENU[choice]\n",
    "\n",
    "        except:\n",
    "            choice = input(\"That's not a valid option. Type 'espresso', 'latte' or 'cappuccino': \").lower()\n",
    "\n",
    "        else:\n",
    "            print(f'You want a {choice}, great choice!')\n",
    "            return choice\n",
    "\n",
    "\n",
    "order = user_choice()\n",
    "print(order)"
   ]
  },
  {
   "cell_type": "code",
   "execution_count": 19,
   "id": "bb373882",
   "metadata": {},
   "outputs": [],
   "source": [
    "quarters = 0.25\n",
    "dimes = 0.10\n",
    "nickles = 0.05\n",
    "pennies = 0.01\n",
    "\n",
    "coins_inserted = {'quarters': 5, 'dimes': 1, 'nickles': 4, 'pennies': 3}"
   ]
  },
  {
   "cell_type": "code",
   "execution_count": 22,
   "id": "fe279fed",
   "metadata": {
    "scrolled": true
   },
   "outputs": [
    {
     "name": "stdout",
     "output_type": "stream",
     "text": [
      "5\n",
      "5\n",
      "1\n",
      "6\n",
      "4\n",
      "10\n",
      "3\n",
      "13\n"
     ]
    }
   ],
   "source": [
    "def money(coins_inserted):\n",
    "    \n",
    "    money = 0\n",
    "    \n",
    "    for coin in coins_inserted:\n",
    "        print(coins_inserted[coin])\n",
    "        money += coins_inserted[coin]\n",
    "        print(money)\n",
    "        \n",
    "money(coins_inserted)"
   ]
  },
  {
   "cell_type": "code",
   "execution_count": 25,
   "id": "94c7228d",
   "metadata": {},
   "outputs": [],
   "source": [
    "choice = 'report'"
   ]
  },
  {
   "cell_type": "code",
   "execution_count": 43,
   "id": "6cd14a27",
   "metadata": {},
   "outputs": [],
   "source": [
    "def report(choice, resources):\n",
    "\n",
    "    if choice == 'report':\n",
    "        print('Yes, master.\\nHere is the current status:')\n",
    "        for item in resources:\n",
    "            if item == 'funds':\n",
    "                print(f'{(item).capitalize()}: {resources[item][1]}{resources[item][0]}')\n",
    "            else:\n",
    "                print(f'{(item).capitalize()}: {resources[item][0]}{resources[item][1]}')\n",
    "\n",
    "\n",
    "        "
   ]
  },
  {
   "cell_type": "code",
   "execution_count": 44,
   "id": "290ba013",
   "metadata": {
    "scrolled": true
   },
   "outputs": [
    {
     "name": "stdout",
     "output_type": "stream",
     "text": [
      "Yes, master.\n",
      "Here is the current status:\n",
      "Water: 300ml\n",
      "Milk: 200ml\n",
      "Coffee: 100gr\n",
      "Funds: $100\n"
     ]
    }
   ],
   "source": [
    "report(choice, resources)"
   ]
  },
  {
   "cell_type": "code",
   "execution_count": 68,
   "id": "a8f9b810",
   "metadata": {},
   "outputs": [],
   "source": [
    "choice = 'off'\n",
    "\n",
    "def turn_off(choice):\n",
    "    if choice == 'off':\n",
    "        print('Ok, night night!')\n",
    "        return False"
   ]
  },
  {
   "cell_type": "code",
   "execution_count": 69,
   "id": "2af570ac",
   "metadata": {},
   "outputs": [
    {
     "name": "stdout",
     "output_type": "stream",
     "text": [
      "Ok, night night!\n"
     ]
    },
    {
     "data": {
      "text/plain": [
       "False"
      ]
     },
     "execution_count": 69,
     "metadata": {},
     "output_type": "execute_result"
    }
   ],
   "source": [
    "turn_off(choice)"
   ]
  },
  {
   "cell_type": "code",
   "execution_count": 70,
   "id": "23de91e8",
   "metadata": {},
   "outputs": [
    {
     "name": "stdout",
     "output_type": "stream",
     "text": [
      "I'm on\n",
      "Ok, night night!\n",
      "I'm off...\n"
     ]
    }
   ],
   "source": [
    "machine_on = True\n",
    "while machine_on != False:\n",
    "    print(\"I'm on\")\n",
    "    machine_on = turn_off(choice)\n",
    "\n",
    "print(\"I'm off...\")"
   ]
  }
 ],
 "metadata": {
  "kernelspec": {
   "display_name": "Python 3 (ipykernel)",
   "language": "python",
   "name": "python3"
  },
  "language_info": {
   "codemirror_mode": {
    "name": "ipython",
    "version": 3
   },
   "file_extension": ".py",
   "mimetype": "text/x-python",
   "name": "python",
   "nbconvert_exporter": "python",
   "pygments_lexer": "ipython3",
   "version": "3.9.12"
  }
 },
 "nbformat": 4,
 "nbformat_minor": 5
}
