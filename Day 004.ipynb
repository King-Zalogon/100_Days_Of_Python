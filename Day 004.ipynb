{
 "cells": [
  {
   "cell_type": "code",
   "execution_count": 1,
   "id": "bd2f10b7",
   "metadata": {},
   "outputs": [
    {
     "name": "stdout",
     "output_type": "stream",
     "text": [
      "What do you choose? Type 0 for Rock, 1 for Paper or 2 for Scissors.\n",
      "0\n",
      "\n",
      "    _______\n",
      "---'   ____)\n",
      "      (_____)\n",
      "      (_____)\n",
      "      (____)\n",
      "---.__(___)\n",
      "\n",
      "Computer chose:\n",
      "\n",
      "    _______\n",
      "---'   ____)\n",
      "      (_____)\n",
      "      (_____)\n",
      "      (____)\n",
      "---.__(___)\n",
      "\n",
      "It's a draw\n"
     ]
    }
   ],
   "source": [
    "import random\n",
    "\n",
    "rock = '''\n",
    "    _______\n",
    "---'   ____)\n",
    "      (_____)\n",
    "      (_____)\n",
    "      (____)\n",
    "---.__(___)\n",
    "'''\n",
    "\n",
    "paper = '''\n",
    "    _______\n",
    "---'   ____)____\n",
    "          ______)\n",
    "          _______)\n",
    "         _______)\n",
    "---.__________)\n",
    "'''\n",
    "\n",
    "scissors = '''\n",
    "    _______\n",
    "---'   ____)____\n",
    "          ______)\n",
    "       __________)\n",
    "      (____)\n",
    "---.__(___)\n",
    "'''\n",
    "\n",
    "game_images = [rock, paper, scissors]\n",
    "\n",
    "user_choice = int(input(\"What do you choose? Type 0 for Rock, 1 for Paper or 2 for Scissors.\\n\"))\n",
    "print(game_images[user_choice])\n",
    "\n",
    "computer_choice = random.randint(0, 2)\n",
    "print(\"Computer chose:\")\n",
    "print(game_images[computer_choice])\n",
    "\n",
    "if user_choice >= 3 or user_choice < 0: \n",
    "  print(\"You typed an invalid number, you lose!\") \n",
    "elif user_choice == 0 and computer_choice == 2:\n",
    "  print(\"You win!\")\n",
    "elif computer_choice == 0 and user_choice == 2:\n",
    "  print(\"You lose\")\n",
    "elif computer_choice > user_choice:\n",
    "  print(\"You lose\")\n",
    "elif user_choice > computer_choice:\n",
    "  print(\"You win!\")\n",
    "elif computer_choice == user_choice:\n",
    "  print(\"It's a draw\")\n",
    "\n",
    "####### Debugging challenge: #########\n",
    "#Try running this code and type 5.\n",
    "#It will give you an IndexError and point to line 32 as the issue.\n",
    "#But on line 38 we are trying to prevent a crash by detecting\n",
    "#any numbers great than or equal to 3 or less than 0.\n",
    "#So what's going on?\n",
    "#Can you debug the code and fix it?\n",
    "#Solution: https://repl.it/@appbrewery/rock-paper-scissors-debugged-end"
   ]
  },
  {
   "cell_type": "code",
   "execution_count": 2,
   "id": "99fbc3a2",
   "metadata": {},
   "outputs": [
    {
     "name": "stdout",
     "output_type": "stream",
     "text": [
      "6\n"
     ]
    },
    {
     "ename": "ModuleNotFoundError",
     "evalue": "No module named 'my_module'",
     "output_type": "error",
     "traceback": [
      "\u001b[1;31m---------------------------------------------------------------------------\u001b[0m",
      "\u001b[1;31mModuleNotFoundError\u001b[0m                       Traceback (most recent call last)",
      "Input \u001b[1;32mIn [2]\u001b[0m, in \u001b[0;36m<cell line: 7>\u001b[1;34m()\u001b[0m\n\u001b[0;32m      3\u001b[0m random_integer \u001b[38;5;241m=\u001b[39m random\u001b[38;5;241m.\u001b[39mrandint(\u001b[38;5;241m1\u001b[39m, \u001b[38;5;241m10\u001b[39m)\n\u001b[0;32m      5\u001b[0m \u001b[38;5;28mprint\u001b[39m(random_integer)\n\u001b[1;32m----> 7\u001b[0m \u001b[38;5;28;01mimport\u001b[39;00m \u001b[38;5;21;01mmy_module\u001b[39;00m\n\u001b[0;32m      9\u001b[0m \u001b[38;5;28mprint\u001b[39m(my_module\u001b[38;5;241m.\u001b[39mpi)\n\u001b[0;32m     11\u001b[0m random_float \u001b[38;5;241m=\u001b[39m random\u001b[38;5;241m.\u001b[39mrandom()\u001b[38;5;241m*\u001b[39m\u001b[38;5;241m5\u001b[39m\n",
      "\u001b[1;31mModuleNotFoundError\u001b[0m: No module named 'my_module'"
     ]
    }
   ],
   "source": [
    "import random\n",
    "\n",
    "random_integer = random.randint(1, 10)\n",
    "\n",
    "print(random_integer)\n",
    "\n",
    "import my_module\n",
    "\n",
    "print(my_module.pi)\n",
    "\n",
    "random_float = random.random()*5\n",
    "\n",
    "print(random_float)\n",
    "\n",
    "lucky_number = random.randint(1,100)\n",
    "\n",
    "print(f'Your lucky number is {lucky_number}.')\n",
    "\n"
   ]
  },
  {
   "cell_type": "markdown",
   "id": "39e5a923",
   "metadata": {},
   "source": [
    "# Heads or Tails"
   ]
  },
  {
   "cell_type": "code",
   "execution_count": null,
   "id": "685f5284",
   "metadata": {},
   "outputs": [],
   "source": []
  },
  {
   "cell_type": "code",
   "execution_count": 38,
   "id": "f33af99d",
   "metadata": {},
   "outputs": [
    {
     "name": "stdout",
     "output_type": "stream",
     "text": [
      "The coin landed on Heads.\n"
     ]
    }
   ],
   "source": [
    "#Write your code below this line 👇\n",
    "#Hint: Remember to import the random module first. 🎲\n",
    "\n",
    "import random\n",
    "\n",
    "result = ''\n",
    "\n",
    "h_or_t = random.randint(0,1)\n",
    "\n",
    "if h_or_t == 0:\n",
    "    result = 'Heads'\n",
    "else:\n",
    "    result = 'Tails'\n",
    "\n",
    "print(f'The coin landed on {result}.')"
   ]
  },
  {
   "cell_type": "markdown",
   "id": "423fc2a5",
   "metadata": {},
   "source": [
    "# Lists"
   ]
  },
  {
   "cell_type": "code",
   "execution_count": 41,
   "id": "2a7227cf",
   "metadata": {},
   "outputs": [],
   "source": [
    "states_of_america = [\"Delaware\", \"Pennsylvania\", \"New Jersey\", \"Georgia\", \"Connecticut\", \"Massachusetts\", \"Maryland\", \"South Carolina\", \"New Hampshire\", \"Virginia\", \"New York\", \"North Carolina\", \"Rhode Island\", \"Vermont\", \"Kentucky\", \"Tennessee\", \"Ohio\", \"Louisiana\", \"Indiana\", \"Mississippi\", \"Illinois\", \"Alabama\", \"Maine\", \"Missouri\", \"Arkansas\", \"Michigan\", \"Florida\", \"Texas\", \"Iowa\", \"Wisconsin\", \"California\", \"Minnesota\", \"Oregon\", \"Kansas\", \"West Virginia\", \"Nevada\", \"Nebraska\", \"Colorado\", \"North Dakota\", \"South Dakota\", \"Montana\", \"Washington\", \"Idaho\", \"Wyoming\", \"Utah\", \"Oklahoma\", \"New Mexico\", \"Arizona\", \"Alaska\", \"Hawaii\"]"
   ]
  },
  {
   "cell_type": "code",
   "execution_count": 44,
   "id": "704e7a7f",
   "metadata": {},
   "outputs": [
    {
     "name": "stdout",
     "output_type": "stream",
     "text": [
      "Mary\n"
     ]
    }
   ],
   "source": [
    "print(states_of_america[6][0:4])"
   ]
  },
  {
   "cell_type": "code",
   "execution_count": 46,
   "id": "82637b1f",
   "metadata": {},
   "outputs": [
    {
     "name": "stdout",
     "output_type": "stream",
     "text": [
      "Actual String:  Python is great\n",
      "Type of string:  <class 'str'>\n",
      "String converted to list : ['Python', 'is', 'great']\n"
     ]
    }
   ],
   "source": [
    "#given string\n",
    "string1=\"Python is great\"\n",
    " \n",
    "#printing the string\n",
    "print(\"Actual String: \",string1) \n",
    "   \n",
    "#gives us the type of string1\n",
    "print(\"Type of string: \",type(string1))  \n",
    " \n",
    "print(\"String converted to list :\",string1.split()) \n",
    "#prints the list given by split()"
   ]
  },
  {
   "cell_type": "code",
   "execution_count": 47,
   "id": "39c5cfad",
   "metadata": {},
   "outputs": [
    {
     "name": "stdout",
     "output_type": "stream",
     "text": [
      "Actual String:  AskPython\n",
      "Type of string:  <class 'str'>\n",
      "String converted to list :\n",
      " ['A', 's', 'k', 'P', 'y', 't', 'h', 'o', 'n']\n"
     ]
    }
   ],
   "source": [
    "#given string\n",
    "string1=\"AskPython\"\n",
    " \n",
    "#printing the string\n",
    "print(\"Actual String: \",string1)\n",
    "#confirming the type()\n",
    "print(\"Type of string: \",type(string1))\n",
    " \n",
    "#type-casting the string into list using list()\n",
    "print(\"String converted to list :\\n\",list(string1))"
   ]
  },
  {
   "cell_type": "code",
   "execution_count": 48,
   "id": "77abe79b",
   "metadata": {},
   "outputs": [
    {
     "name": "stdout",
     "output_type": "stream",
     "text": [
      "The actual string: This is Python\n",
      "Converted to list of character list :\n",
      " [['T', 'h', 'i', 's'], ['i', 's'], ['P', 'y', 't', 'h', 'o', 'n']]\n"
     ]
    }
   ],
   "source": [
    "#Given string\n",
    "string1=\"This is Python\"\n",
    " \n",
    "print(\"The actual string:\",string1)\n",
    " \n",
    "#converting string1 into a list of strings\n",
    "string1=string1.split()\n",
    " \n",
    "#applying list method to the individual elements of the list string1\n",
    "list1=list(map(list,string1))\n",
    " \n",
    "#printing the resultant list of lists\n",
    "print(\"Converted to list of character list :\\n\",list1)"
   ]
  },
  {
   "cell_type": "code",
   "execution_count": 49,
   "id": "18831cf4",
   "metadata": {},
   "outputs": [
    {
     "name": "stdout",
     "output_type": "stream",
     "text": [
      "Actual String containing integers:  1 2 3 4 5 6 7 8\n",
      "Type of string:  <class 'str'>\n",
      "Converted string to list :  ['1', '2', '3', '4', '5', '6', '7', '8']\n",
      "List of integers :  [1, 2, 3, 4, 5, 6, 7, 8]\n"
     ]
    }
   ],
   "source": [
    "#string with integers sepated by spaces\n",
    "string1=\"1 2 3 4 5 6 7 8\"\n",
    "print(\"Actual String containing integers: \",string1)\n",
    "print(\"Type of string: \",type(string1))\n",
    " \n",
    "#converting the string into list of strings\n",
    "list1=list(string1.split())\n",
    "print(\"Converted string to list : \",list1)\n",
    " \n",
    "#typecasting the individual elements of the string list into integer using the map() method\n",
    "list2=list(map(int,list1))\n",
    "print(\"List of integers : \",list2)"
   ]
  },
  {
   "cell_type": "markdown",
   "id": "a3dc5cc5",
   "metadata": {},
   "source": [
    "# Banker Roulette"
   ]
  },
  {
   "cell_type": "code",
   "execution_count": 50,
   "id": "56244a9a",
   "metadata": {},
   "outputs": [
    {
     "name": "stdout",
     "output_type": "stream",
     "text": [
      "Give me everybody's names, separated by a comma. Juan, Pedro, Maria, Paula\n",
      "['Juan', 'Pedro', 'Maria', 'Paula']\n",
      "And the \"winner\" is... Maria!!!\n"
     ]
    }
   ],
   "source": [
    "# Split string method\n",
    "names_string = input(\"Give me everybody's names, separated by a comma. \")\n",
    "names = names_string.split(\", \")\n",
    "# 🚨 Don't change the code above 👆\n",
    "\n",
    "#Write your code below this line 👇\n",
    "import random\n",
    "print(names)\n",
    "\n",
    "pays = names[random.randint(0, len(names)-1)]\n",
    "\n",
    "print(f'And the \"winner\" is... {pays}!!!')"
   ]
  },
  {
   "cell_type": "code",
   "execution_count": 51,
   "id": "99fe1bc8",
   "metadata": {},
   "outputs": [
    {
     "name": "stdout",
     "output_type": "stream",
     "text": [
      "Give me everybody's names, separated by a comma. James, Laura, Jenny, Peter\n",
      "['James', 'Laura', 'Jenny', 'Peter']\n",
      "And the \"winner\" is... James!!!\n"
     ]
    }
   ],
   "source": [
    "# Split string method\n",
    "names_string = input(\"Give me everybody's names, separated by a comma. \")\n",
    "names = names_string.split(\", \")\n",
    "# 🚨 Don't change the code above 👆\n",
    "\n",
    "#Write your code below this line 👇\n",
    "import random\n",
    "print(names)\n",
    "\n",
    "pays = random.choice(names)\n",
    "\n",
    "print(f'And the \"winner\" is... {pays}!!!')"
   ]
  },
  {
   "cell_type": "markdown",
   "id": "621ee7bd",
   "metadata": {},
   "source": [
    "# Nested Lists"
   ]
  },
  {
   "cell_type": "code",
   "execution_count": 53,
   "id": "a6c05d45",
   "metadata": {},
   "outputs": [
    {
     "name": "stdout",
     "output_type": "stream",
     "text": [
      "[[1, 2, 3], ['x', 'y', 'z']]\n"
     ]
    }
   ],
   "source": [
    "list1 = [1,2,3]\n",
    "list2 = [\"x\",\"y\",\"z\"]\n",
    "nested_lists = [list1,list2]\n",
    "print(nested_lists)"
   ]
  },
  {
   "cell_type": "code",
   "execution_count": 54,
   "id": "1c407568",
   "metadata": {},
   "outputs": [
    {
     "name": "stdout",
     "output_type": "stream",
     "text": [
      "y\n"
     ]
    }
   ],
   "source": [
    "print(nested_lists[1][1])"
   ]
  },
  {
   "cell_type": "code",
   "execution_count": null,
   "id": "efb3c218",
   "metadata": {},
   "outputs": [],
   "source": [
    "# 🚨 Don't change the code below 👇\n",
    "row1 = [\"⬜️\",\"⬜️\",\"⬜️\"]\n",
    "row2 = [\"⬜️\",\"⬜️\",\"⬜️\"]\n",
    "row3 = [\"⬜️\",\"⬜️\",\"⬜️\"]\n",
    "map = [row1, row2, row3]\n",
    "print(f\"{row1}\\n{row2}\\n{row3}\")\n",
    "position = input(\"Where do you want to put the treasure? \")\n",
    "# 🚨 Don't change the code above 👆\n",
    "\n",
    "#Write your code below this row 👇\n",
    "\n",
    "❌⭕\n",
    "\n",
    "\n",
    "\n",
    "\n",
    "#Write your code above this row 👆\n",
    "\n",
    "# 🚨 Don't change the code below 👇\n",
    "print(f\"{row1}\\n{row2}\\n{row3}\")"
   ]
  },
  {
   "cell_type": "code",
   "execution_count": 58,
   "id": "f1a4f5ee",
   "metadata": {},
   "outputs": [
    {
     "name": "stdout",
     "output_type": "stream",
     "text": [
      "['⬜️', '⬜️', '⬜️']\n",
      "['⬜️', '⬜️', '⬜️']\n",
      "['⬜️', '⬜️', '⬜️']\n",
      "Where do you want to put the treasure? 22\n",
      "['⬜️', '⬜️', '⬜️']\n",
      "['⬜️', '❌', '⬜️']\n",
      "['⬜️', '⬜️', '⬜️']\n"
     ]
    }
   ],
   "source": [
    "# 🚨 Don't change the code below 👇\n",
    "row1 = [\"⬜️\",\"⬜️\",\"⬜️\"]\n",
    "row2 = [\"⬜️\",\"⬜️\",\"⬜️\"]\n",
    "row3 = [\"⬜️\",\"⬜️\",\"⬜️\"]\n",
    "map = [row1, row2, row3]\n",
    "print(f\"{row1}\\n{row2}\\n{row3}\")\n",
    "position = input(\"Where do you want to put the treasure? \")\n",
    "# 🚨 Don't change the code above 👆\n",
    "\n",
    "#Write your code below this row 👇\n",
    "horizontal = int(position[0])\n",
    "vertical = int(position[1])\n",
    "\n",
    "map[vertical-1][horizontal-1] = '❌'\n",
    "\n",
    "\n",
    "#Write your code above this row 👆\n",
    "\n",
    "# 🚨 Don't change the code below 👇\n",
    "print(f\"{row1}\\n{row2}\\n{row3}\")"
   ]
  },
  {
   "cell_type": "markdown",
   "id": "887915a1",
   "metadata": {},
   "source": [
    "# Rock, Paper and Scissors"
   ]
  },
  {
   "cell_type": "code",
   "execution_count": 65,
   "id": "7d68b1ee",
   "metadata": {},
   "outputs": [
    {
     "name": "stdout",
     "output_type": "stream",
     "text": [
      "Choose \"0\" for Rock, \"1\" for Paper and \"2\" for Scissors: \n",
      "2\n",
      "\n",
      "    _______\n",
      "---'   ____)____\n",
      "          ______)\n",
      "       __________)\n",
      "      (____)\n",
      "---.__(___)\n",
      "\n",
      "Computer chose:\n",
      "\n",
      "    _______\n",
      "---'   ____)\n",
      "      (_____)\n",
      "      (_____)\n",
      "      (____)\n",
      "---.__(___)\n",
      "\n",
      "You lose\n"
     ]
    }
   ],
   "source": [
    "rock = '''\n",
    "    _______\n",
    "---'   ____)\n",
    "      (_____)\n",
    "      (_____)\n",
    "      (____)\n",
    "---.__(___)\n",
    "'''\n",
    "\n",
    "paper = '''\n",
    "    _______\n",
    "---'   ____)____\n",
    "          ______)\n",
    "          _______)\n",
    "         _______)\n",
    "---.__________)\n",
    "'''\n",
    "\n",
    "scissors = '''\n",
    "    _______\n",
    "---'   ____)____\n",
    "          ______)\n",
    "       __________)\n",
    "      (____)\n",
    "---.__(___)\n",
    "'''\n",
    "\n",
    "#Write your code below this line 👇\n",
    "\n",
    "import random\n",
    "\n",
    "choice_list=[rock, paper, scissors]\n",
    "\n",
    "player_choice = int(input('Choose \"0\" for Rock, \"1\" for Paper and \"2\" for Scissors: \\n'))\n",
    "print(choice_list[player_choice])\n",
    "\n",
    "computer_choice = random.randint(0,2)\n",
    "print('Computer chose:')\n",
    "print(choice_list[computer_choice])\n",
    "\n",
    "if player_choice == computer_choice:\n",
    "    print(\"It's a draw!\")\n",
    "    \n",
    "elif player_choice == 0 and computer_choice == 2:\n",
    "    print('You win')\n",
    "elif player_choice == 1 and computer_choice == 0:\n",
    "    print('You win')\n",
    "elif player_choice == 2 and computer_choice == 1:\n",
    "    print('You win')\n",
    "else:\n",
    "    print('You lose')"
   ]
  },
  {
   "cell_type": "code",
   "execution_count": 68,
   "id": "7353b5ab",
   "metadata": {},
   "outputs": [
    {
     "name": "stdout",
     "output_type": "stream",
     "text": [
      "Create a seed number: 5\n",
      "None\n"
     ]
    }
   ],
   "source": [
    "import random\n",
    "test_seed = int(input(\"Create a seed number: \"))\n",
    "random.seed()\n",
    "print(random.seed(test_seed))"
   ]
  },
  {
   "cell_type": "code",
   "execution_count": null,
   "id": "530f23bf",
   "metadata": {},
   "outputs": [],
   "source": []
  }
 ],
 "metadata": {
  "kernelspec": {
   "display_name": "Python 3 (ipykernel)",
   "language": "python",
   "name": "python3"
  },
  "language_info": {
   "codemirror_mode": {
    "name": "ipython",
    "version": 3
   },
   "file_extension": ".py",
   "mimetype": "text/x-python",
   "name": "python",
   "nbconvert_exporter": "python",
   "pygments_lexer": "ipython3",
   "version": "3.9.12"
  }
 },
 "nbformat": 4,
 "nbformat_minor": 5
}
