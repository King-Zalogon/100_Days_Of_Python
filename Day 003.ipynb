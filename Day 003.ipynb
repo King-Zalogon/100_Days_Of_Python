{
 "cells": [
  {
   "cell_type": "code",
   "execution_count": 3,
   "id": "d21b1f9f",
   "metadata": {},
   "outputs": [
    {
     "name": "stdout",
     "output_type": "stream",
     "text": [
      "Welcome to the rollercoaster!\n",
      "What is your height in cm? 120\n",
      "You can ride the rollercoaster!\n"
     ]
    }
   ],
   "source": [
    "print(\"Welcome to the rollercoaster!\")\n",
    "height = int(input(\"What is your height in cm? \"))\n",
    "\n",
    "if height >= 120:\n",
    "\tprint('You can ride the rollercoaster!')\n",
    "\n",
    "else:\n",
    "\tprint(\"Sorry, you have to grow taller before you can ride.\")\n"
   ]
  },
  {
   "cell_type": "code",
   "execution_count": 4,
   "id": "59ec4121",
   "metadata": {},
   "outputs": [
    {
     "name": "stdout",
     "output_type": "stream",
     "text": [
      "Which number do you want to check?  184626\n",
      "This is an even number.\n"
     ]
    }
   ],
   "source": [
    "# 🚨 Don't change the code below 👇\n",
    "number = int(input(\"Which number do you want to check? \"))\n",
    "# 🚨 Don't change the code above 👆\n",
    "\n",
    "#Write your code below this line 👇\n",
    "\n",
    "if number%2 == 0:\n",
    "    print('This is an even number.')\n",
    "if number%2 != 0:\n",
    "    print('This is an odd number.')\n"
   ]
  },
  {
   "cell_type": "code",
   "execution_count": 7,
   "id": "2ac587bb",
   "metadata": {},
   "outputs": [
    {
     "name": "stdout",
     "output_type": "stream",
     "text": [
      "Welcome to the rollercoaster!\n",
      "What is your height in cm? 170\n",
      "You can ride the rollercoaster!\n",
      "What is your age? 13\n",
      "Please pay $7.\n"
     ]
    }
   ],
   "source": [
    "print(\"Welcome to the rollercoaster!\")\n",
    "height = int(input(\"What is your height in cm? \"))\n",
    "\n",
    "if height >= 120:\n",
    "    print('You can ride the rollercoaster!')\n",
    "    age = int(input('What is your age? '))\n",
    "    ticket = 12\n",
    "    if age < 12:\n",
    "        ticket = 5\n",
    "    elif age <= 18:\n",
    "        ticket = 7\n",
    "    else:\n",
    "        ticket = 12\n",
    "    \n",
    "    print (f'Please pay ${ticket}.')\n",
    "    \n",
    "else:\n",
    "\tprint(\"Sorry, you have to grow taller before you can ride.\")\n"
   ]
  },
  {
   "cell_type": "markdown",
   "id": "e2476b0b",
   "metadata": {},
   "source": [
    "# BMI Calculator 2.0"
   ]
  },
  {
   "cell_type": "code",
   "execution_count": 18,
   "id": "a132a2cc",
   "metadata": {},
   "outputs": [
    {
     "name": "stdout",
     "output_type": "stream",
     "text": [
      "enter your height in m: 1.5\n",
      "enter your weight in kg: 51\n",
      "Your BMI is 22.7, you have a normal weight.\n"
     ]
    }
   ],
   "source": [
    "# 🚨 Don't change the code below 👇\n",
    "height = float(input(\"enter your height in m: \"))\n",
    "weight = float(input(\"enter your weight in kg: \"))\n",
    "# 🚨 Don't change the code above 👆\n",
    "\n",
    "#Write your code below this line 👇\n",
    "\n",
    "bmi = round((weight) /((height)**2),)\n",
    "\n",
    "if bmi < 18.5:\n",
    "    print(f'Your BMI is {bmi}, you are underweight.')\n",
    "elif bmi < 25:\n",
    "    print(f\"Your BMI is {bmi}, you have a normal weight.\")\n",
    "elif bmi < 30:\n",
    "    print(f\"Your BMI is {bmi}, you are slightly overweight.\")\n",
    "elif bmi < 35:\n",
    "    print(f\"Your BMI is {bmi}, you are obese.\")\n",
    "else:\n",
    "    print(f\"Your BMI is {bmi}, you are clinically obese.\")\n",
    "    \n"
   ]
  },
  {
   "cell_type": "markdown",
   "id": "d2c512bf",
   "metadata": {},
   "source": [
    "# Leap Year Calculator"
   ]
  },
  {
   "cell_type": "code",
   "execution_count": 33,
   "id": "c2daf3a6",
   "metadata": {},
   "outputs": [
    {
     "name": "stdout",
     "output_type": "stream",
     "text": [
      "Which year do you want to check? 2024\n",
      "Leap year.\n"
     ]
    }
   ],
   "source": [
    "# 🚨 Don't change the code below 👇\n",
    "year = int(input(\"Which year do you want to check? \"))\n",
    "# 🚨 Don't change the code above 👆\n",
    "\n",
    "#Write your code below this line 👇\n",
    "\n",
    "leap = False\n",
    "\n",
    "if year%4 == 0:\n",
    "    \n",
    "    if year%100 == 0:\n",
    "        \n",
    "        if year%400 == 0:\n",
    "\n",
    "            leap = True\n",
    "        \n",
    "        else:\n",
    "            leap = False\n",
    "    \n",
    "    else:\n",
    "        leap = True\n",
    "    \n",
    "else:\n",
    "    leap = False\n",
    "\n",
    "if leap == True:\n",
    "    print('Leap year.')\n",
    "\n",
    "else:\n",
    "    print('Not leap year.')\n"
   ]
  },
  {
   "cell_type": "code",
   "execution_count": 36,
   "id": "f2a93989",
   "metadata": {},
   "outputs": [
    {
     "name": "stdout",
     "output_type": "stream",
     "text": [
      "Welcome to the rollercoaster!\n",
      "What is your height in cm? 177\n",
      "You can ride the rollercoaster!\n",
      "What is your age? 5\n",
      "Do you want a photo taken? Y or N. n\n",
      "Please pay $5.\n"
     ]
    }
   ],
   "source": [
    "print(\"Welcome to the rollercoaster!\")\n",
    "height = int(input(\"What is your height in cm? \"))\n",
    "\n",
    "if height >= 120:\n",
    "    print('You can ride the rollercoaster!')\n",
    "    age = int(input('What is your age? '))\n",
    "    ticket = 0\n",
    "    if age < 12:\n",
    "        ticket = 5\n",
    "    elif age <= 18:\n",
    "        ticket = 7\n",
    "    else:\n",
    "        ticket = 12\n",
    "    \n",
    "    photo = input('Do you want a photo taken? Y or N. ')\n",
    "    \n",
    "    if photo.upper() == 'Y':\n",
    "        ticket += 3\n",
    "    \n",
    "    print (f'Please pay ${ticket}.')\n",
    "    \n",
    "else:\n",
    "\tprint(\"Sorry, you have to grow taller before you can ride.\")"
   ]
  },
  {
   "cell_type": "code",
   "execution_count": 37,
   "id": "6e15f933",
   "metadata": {},
   "outputs": [
    {
     "name": "stdout",
     "output_type": "stream",
     "text": [
      "Welcome to the rollercoaster!\n",
      "What is your height in cm? 160\n",
      "You can ride the rollercoaster!\n",
      "What is your age? 8\n",
      "Child tickets are $5.\n",
      "Do you want a photo taken? Y or N. Y\n",
      "Your final bill is $8\n"
     ]
    }
   ],
   "source": [
    "print(\"Welcome to the rollercoaster!\")\n",
    "height = int(input(\"What is your height in cm? \"))\n",
    "bill = 0\n",
    "\n",
    "if height >= 120:\n",
    "    print(\"You can ride the rollercoaster!\")\n",
    "    age = int(input(\"What is your age? \"))\n",
    "    if age < 12:\n",
    "        bill = 5\n",
    "        print(\"Child tickets are $5.\")\n",
    "    elif age <= 18:\n",
    "        bill = 7\n",
    "        print(\"Youth tickets are $7.\")\n",
    "    else:\n",
    "        bill = 12\n",
    "        print(\"Adult tickets are $12.\")\n",
    "  \n",
    "    wants_photo = input(\"Do you want a photo taken? Y or N. \")\n",
    "    if wants_photo == \"Y\":\n",
    "        bill += 3\n",
    "  \n",
    "    print(f\"Your final bill is ${bill}\")\n",
    "\n",
    "else:\n",
    "    print(\"Sorry, you have to grow taller before you can ride.\")\n"
   ]
  },
  {
   "cell_type": "code",
   "execution_count": 42,
   "id": "d51e9370",
   "metadata": {},
   "outputs": [
    {
     "name": "stdout",
     "output_type": "stream",
     "text": [
      "Welcome to Python Pizza Deliveries!\n",
      "What size pizza do you want? S, M, or L m\n",
      "Do you want pepperoni? Y or N y\n",
      "Do you want extra cheese? Y or N n\n",
      "Your final bill is: $23.\n"
     ]
    }
   ],
   "source": [
    "# Pizza Order\n",
    "\n",
    "# 🚨 Don't change the code below 👇\n",
    "print(\"Welcome to Python Pizza Deliveries!\")\n",
    "size = input(\"What size pizza do you want? S, M, or L \")\n",
    "add_pepperoni = input(\"Do you want pepperoni? Y or N \")\n",
    "extra_cheese = input(\"Do you want extra cheese? Y or N \")\n",
    "# 🚨 Don't change the code above 👆\n",
    "\n",
    "#Write your code below this line 👇\n",
    "\n",
    "size = size.upper()\n",
    "add_pepperoni = add_pepperoni.upper()\n",
    "extra_cheese = extra_cheese.upper()\n",
    "\n",
    "bill = 0\n",
    "\n",
    "if size == 'S':\n",
    "    bill = 15\n",
    "\n",
    "elif size == 'M':\n",
    "    bill = 20\n",
    "\n",
    "else:\n",
    "    bill = 25\n",
    "\n",
    "if add_pepperoni == 'Y':\n",
    "    if size == 'S':\n",
    "        bill += 2\n",
    "    else:\n",
    "        bill += 3\n",
    "\n",
    "if extra_cheese == 'Y':\n",
    "    bill += 1\n",
    "\n",
    "print (f'Your final bill is: ${bill}.')\n"
   ]
  },
  {
   "cell_type": "code",
   "execution_count": 46,
   "id": "827e4009",
   "metadata": {},
   "outputs": [
    {
     "name": "stdout",
     "output_type": "stream",
     "text": [
      "Welcome to the rollercoaster!\n",
      "What is your height in cm? 177\n",
      "You can ride the rollercoaster!\n",
      "What is your age? 46\n",
      "Everything is going to be ok. Have a free ride on us!\n",
      "Do you want a photo taken? Y or N. Y\n",
      "Your final bill is $3\n"
     ]
    }
   ],
   "source": [
    "print(\"Welcome to the rollercoaster!\")\n",
    "height = int(input(\"What is your height in cm? \"))\n",
    "bill = 0\n",
    "\n",
    "if height >= 120:\n",
    "    print(\"You can ride the rollercoaster!\")\n",
    "    age = int(input(\"What is your age? \"))\n",
    "    if age < 12:\n",
    "        bill = 5\n",
    "        print(\"Child tickets are $5.\")\n",
    "    elif age <= 18:\n",
    "        bill = 7\n",
    "        print(\"Youth tickets are $7.\")\n",
    "    elif age >= 45 and age <= 55:\n",
    "        print(\"Everything is going to be ok. Have a free ride on us!\")\n",
    "    else:\n",
    "        bill = 12\n",
    "        print(\"Adult tickets are $12.\")\n",
    "  \n",
    "    wants_photo = input(\"Do you want a photo taken? Y or N. \")\n",
    "    if wants_photo == \"Y\":\n",
    "        bill += 3\n",
    "  \n",
    "    print(f\"Your final bill is ${bill}\")\n",
    "\n",
    "else:\n",
    "    print(\"Sorry, you have to grow taller before you can ride.\")"
   ]
  },
  {
   "cell_type": "markdown",
   "id": "f5164524",
   "metadata": {},
   "source": [
    "# Love Compatibility Calculator"
   ]
  },
  {
   "cell_type": "code",
   "execution_count": 59,
   "id": "7cdb3a1c",
   "metadata": {
    "scrolled": true
   },
   "outputs": [
    {
     "name": "stdout",
     "output_type": "stream",
     "text": [
      "Welcome to the Love Calculator!\n",
      "What is your name? \n",
      "Marie Curie\n",
      "What is their name? \n",
      "Piere Curie\n",
      "Your score is 115, you go together like coke and mentos.\n"
     ]
    }
   ],
   "source": [
    "# 🚨 Don't change the code below 👇\n",
    "print(\"Welcome to the Love Calculator!\")\n",
    "name1 = input(\"What is your name? \\n\")\n",
    "name2 = input(\"What is their name? \\n\")\n",
    "# 🚨 Don't change the code above 👆\n",
    "\n",
    "#Write your code below this line 👇\n",
    "\n",
    "name1 = name1.lower()\n",
    "name2 = name2.lower()\n",
    "join_names = name1+name2\n",
    "\n",
    "tr = 'true'\n",
    "lv = 'love'\n",
    "\n",
    "first = 0\n",
    "second = 0\n",
    "\n",
    "for l in tr:\n",
    "    first += join_names.count(l)\n",
    "for l in lv:\n",
    "    second += join_names.count(l)\n",
    "    \n",
    "perc = int(str(first)+str(second))\n",
    "\n",
    "if perc < 10 or perc >90:\n",
    "    print(f\"Your score is {perc}, you go together like coke and mentos.\")\n",
    "\n",
    "elif perc >= 40 and perc <= 50:\n",
    "    print(f\"Your score is {perc}, you are alright together.\")\n",
    "\n",
    "else:\n",
    "    print(f\"Your score is {perc}.\")\n",
    "\n"
   ]
  },
  {
   "cell_type": "markdown",
   "id": "27929152",
   "metadata": {},
   "source": [
    "# Chose your own adventure - Project (Treasure Island)"
   ]
  },
  {
   "cell_type": "code",
   "execution_count": 67,
   "id": "b1cf0639",
   "metadata": {},
   "outputs": [
    {
     "name": "stdout",
     "output_type": "stream",
     "text": [
      "\n",
      "   .:'                                  `:.\n",
      "  ::'       Art by                       `::\n",
      " :: :.    Ronald Allan Stanions         .: ::\n",
      "  `:. `:.             .             .:'  .:'\n",
      "   `::. `::           !           ::' .::'\n",
      "       `::.`::.    .' ! `.    .::'.::'\n",
      "         `:.  `::::'':!:``::::'   ::'\n",
      "         :'*:::.  .:' ! `:.  .:::*`:\n",
      "        :: HHH::.   ` ! '   .::HHH ::\n",
      "       ::: `H TH::.  `!'  .::HT H' :::\n",
      "       ::..  `THHH:`:   :':HHHT'  ..::\n",
      "       `::      `T: `. .' :T'      ::'\n",
      "         `:. .   :         :   . .:'\n",
      "           `::'               `::'\n",
      "             :'  .`.  .  .'.  `:\n",
      "             :' ::.       .:: `:\n",
      "             :' `:::     :::' `:\n",
      "              `.  ``     ''  .'\n",
      "               :`...........':\n",
      "               ` :`.     .': '\n",
      "                `:  `\"\"\"'  :'\n",
      "\n",
      "\n",
      "Welcome to Treasure Island. \n",
      "Your mission is to find the treasure...\n",
      "...or die trying!\n",
      "You awake in an unknow tavern room with no memories of you got there.\n",
      "Your here footsteps aproaching\n",
      "If you wait for whoever is comming type \"W\". If you try to escape trough the window type \"E\":\n",
      "e\n",
      "You escape on time to hear someone entering the room while threatening to kill\n",
      "To on side you see the road takes you to the town's dock\n",
      "To the other side the road goes into a forest\n",
      "Do your take the road to the forest? (type \"F\")\n",
      "Or go down to the docks? (type \"D\")\n",
      "f\n",
      "You follow the road into the forest and soon see your path divide in three. Forward, left and right\n",
      "Do you continue Forward, go Left or Right? Type \"F\" , \"L\" or \"R\":\n",
      "l\n",
      "That's right! When in doubt go left!\n",
      "You arrive at an abandoned tower, where you find a chest full of gold!\n",
      "GAME OVER!\n"
     ]
    }
   ],
   "source": [
    "print('''\n",
    "   .:'                                  `:.\n",
    "  ::'       Art by                       `::\n",
    " :: :.    Ronald Allan Stanions         .: ::\n",
    "  `:. `:.             .             .:'  .:'\n",
    "   `::. `::           !           ::' .::'\n",
    "       `::.`::.    .' ! `.    .::'.::'\n",
    "         `:.  `::::'':!:``::::'   ::'\n",
    "         :'*:::.  .:' ! `:.  .:::*`:\n",
    "        :: HHH::.   ` ! '   .::HHH ::\n",
    "       ::: `H TH::.  `!'  .::HT H' :::\n",
    "       ::..  `THHH:`:   :':HHHT'  ..::\n",
    "       `::      `T: `. .' :T'      ::'\n",
    "         `:. .   :         :   . .:'\n",
    "           `::'               `::'\n",
    "             :'  .`.  .  .'.  `:\n",
    "             :' ::.       .:: `:\n",
    "             :' `:::     :::' `:\n",
    "              `.  ``     ''  .'\n",
    "               :`...........':\n",
    "               ` :`.     .': '\n",
    "                `:  `\"\"\"'  :'\n",
    "\n",
    "''')\n",
    "\n",
    "print('Welcome to Treasure Island. \\nYour mission is to find the treasure...\\n...or die trying!')\n",
    "\n",
    "game = True\n",
    "\n",
    "print('You awake in an unknow tavern room with no memories of you got there.\\nYour here footsteps aproaching')\n",
    "\n",
    "while game == True:\n",
    "    \n",
    "    choice1 = input('If you wait for whoever is comming type \"W\". If you try to escape trough the window type \"E\":\\n')\n",
    "    \n",
    "    if choice1.upper() == 'W':\n",
    "        print('Angry man with a knife walks through the door')\n",
    "        print('Mad about how you cheated on a cards game he stabs and you die!')\n",
    "        break\n",
    "    \n",
    "    print('You escape on time to hear someone entering the room while threatening to kill')\n",
    "    print(\"To on side you see the road takes you to the town's dock\")\n",
    "    print(\"To the other side the road goes into a forest\")\n",
    "    \n",
    "    choice2 = input('Do your take the road to the forest? (type \"F\")\\nOr go down to the docks? (type \"D\")\\n')\n",
    "    \n",
    "    if choice2.upper() == 'D':\n",
    "        print('As you arrive to the docks a pirate ship arrives and during their raid to the town you die...')\n",
    "        break\n",
    "    \n",
    "    print('You follow the road into the forest and soon see your path divide in three. Forward, left and right')\n",
    "    choice3 = input('Do you continue Forward, go Left or Right? Type \"F\" , \"L\" or \"R\":\\n')\n",
    "    \n",
    "    if choice3.upper() != 'R':\n",
    "        if choice3.upper() == 'L':\n",
    "            print(\"That's right! When in doubt go left!\")\n",
    "            print(\"You arrive at an abandoned tower, where you find a chest full of gold!\")\n",
    "            break\n",
    "        else:\n",
    "            print('You get lost in the forest and get eaten by wild beasts...')\n",
    "            break\n",
    "              \n",
    "    else:\n",
    "        print('Not always taking the right path is the right choice...')\n",
    "        print('A bunch of thieves hiding in the bushed ambush you and kill you for you money... RIP')\n",
    "        break\n",
    "\n",
    "print('GAME OVER!')\n",
    "    "
   ]
  },
  {
   "cell_type": "code",
   "execution_count": null,
   "id": "30772dd0",
   "metadata": {},
   "outputs": [],
   "source": []
  }
 ],
 "metadata": {
  "kernelspec": {
   "display_name": "Python 3 (ipykernel)",
   "language": "python",
   "name": "python3"
  },
  "language_info": {
   "codemirror_mode": {
    "name": "ipython",
    "version": 3
   },
   "file_extension": ".py",
   "mimetype": "text/x-python",
   "name": "python",
   "nbconvert_exporter": "python",
   "pygments_lexer": "ipython3",
   "version": "3.9.12"
  }
 },
 "nbformat": 4,
 "nbformat_minor": 5
}
