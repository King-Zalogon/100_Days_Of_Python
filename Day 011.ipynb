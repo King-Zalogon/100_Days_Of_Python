{
 "cells": [
  {
   "cell_type": "markdown",
   "id": "8d87f1bb",
   "metadata": {},
   "source": [
    "# The Blackjack Capstone Project"
   ]
  },
  {
   "cell_type": "code",
   "execution_count": 2,
   "id": "57d755e0",
   "metadata": {},
   "outputs": [],
   "source": [
    "import random\n",
    "\n",
    "suits = ('Hearts', 'Diamonds', 'Spades', 'Clubs')\n",
    "ranks = ('Two', 'Three', 'Four', 'Five', 'Six', 'Seven', 'Eight', 'Nine', 'Ten', 'Jack', 'Queen', 'King', 'Ace')\n",
    "values = {'Ace':1,'Two':2, 'Three':3, 'Four':4, 'Five':5, 'Six':6, 'Seven':7, 'Eight':8,'Nine':9, 'Ten':10, 'Jack':10, 'Queen':10, 'King':10}"
   ]
  },
  {
   "cell_type": "code",
   "execution_count": null,
   "id": "4a04c34e",
   "metadata": {},
   "outputs": [],
   "source": [
    "############### Blackjack Project #####################\n",
    "\n",
    "#Difficulty Normal 😎: Use all Hints below to complete the project.\n",
    "#Difficulty Hard 🤔: Use only Hints 1, 2, 3 to complete the project.\n",
    "#Difficulty Extra Hard 😭: Only use Hints 1 & 2 to complete the project.\n",
    "#Difficulty Expert 🤯: Only use Hint 1 to complete the project.\n",
    "\n",
    "############### Our Blackjack House Rules #####################\n",
    "\n",
    "## The deck is unlimited in size. \n",
    "## There are no jokers. \n",
    "## The Jack/Queen/King all count as 10.\n",
    "## The the Ace can count as 11 or 1.\n",
    "## Use the following list as the deck of cards:\n",
    "## cards = [11, 2, 3, 4, 5, 6, 7, 8, 9, 10, 10, 10, 10]\n",
    "## The cards in the list have equal probability of being drawn.\n",
    "## Cards are not removed from the deck as they are drawn.\n",
    "## The computer is the dealer.\n",
    "\n",
    "##################### Hints #####################\n",
    "\n",
    "#Hint 1: Go to this website and try out the Blackjack game: \n",
    "#   https://games.washingtonpost.com/games/blackjack/\n",
    "#Then try out the completed Blackjack project here: \n",
    "#   http://blackjack-final.appbrewery.repl.run\n",
    "\n",
    "#Hint 2: Read this breakdown of program requirements: \n",
    "#   http://listmoz.com/view/6h34DJpvJBFVRlZfJvxF\n",
    "#Then try to create your own flowchart for the program.\n",
    "\n",
    "#Hint 3: Download and read this flow chart I've created: \n",
    "#   https://drive.google.com/uc?export=download&id=1rDkiHCrhaf9eX7u7yjM1qwSuyEk-rPnt\n",
    "\n",
    "#Hint 4: Create a deal_card() function that uses the List below to *return* a random card.\n",
    "#11 is the Ace.\n",
    "#cards = [11, 2, 3, 4, 5, 6, 7, 8, 9, 10, 10, 10, 10]\n",
    "\n",
    "#Hint 5: Deal the user and computer 2 cards each using deal_card() and append().\n",
    "#user_cards = []\n",
    "#computer_cards = []\n",
    "\n",
    "#Hint 6: Create a function called calculate_score() that takes a List of cards as input \n",
    "#and returns the score. \n",
    "#Look up the sum() function to help you do this.\n",
    "\n",
    "#Hint 7: Inside calculate_score() check for a blackjack (a hand with only 2 cards: ace + 10) and return 0 instead of the actual score. 0 will represent a blackjack in our game.\n",
    "\n",
    "#Hint 8: Inside calculate_score() check for an 11 (ace). If the score is already over 21, remove the 11 and replace it with a 1. You might need to look up append() and remove().\n",
    "\n",
    "#Hint 9: Call calculate_score(). If the computer or the user has a blackjack (0) or if the user's score is over 21, then the game ends.\n",
    "\n",
    "#Hint 10: If the game has not ended, ask the user if they want to draw another card. If yes, then use the deal_card() function to add another card to the user_cards List. If no, then the game has ended.\n",
    "\n",
    "#Hint 11: The score will need to be rechecked with every new card drawn and the checks in Hint 9 need to be repeated until the game ends.\n",
    "\n",
    "#Hint 12: Once the user is done, it's time to let the computer play. The computer should keep drawing cards as long as it has a score less than 17.\n",
    "\n",
    "#Hint 13: Create a function called compare() and pass in the user_score and computer_score. If the computer and user both have the same score, then it's a draw. If the computer has a blackjack (0), then the user loses. If the user has a blackjack (0), then the user wins. If the user_score is over 21, then the user loses. If the computer_score is over 21, then the computer loses. If none of the above, then the player with the highest score wins.\n",
    "\n",
    "#Hint 14: Ask the user if they want to restart the game. If they answer yes, clear the console and start a new game of blackjack and show the logo from art.py.\n",
    "\n"
   ]
  },
  {
   "cell_type": "code",
   "execution_count": null,
   "id": "3e50c99b",
   "metadata": {},
   "outputs": [],
   "source": []
  }
 ],
 "metadata": {
  "celltoolbar": "Raw Cell Format",
  "kernelspec": {
   "display_name": "Python 3 (ipykernel)",
   "language": "python",
   "name": "python3"
  },
  "language_info": {
   "codemirror_mode": {
    "name": "ipython",
    "version": 3
   },
   "file_extension": ".py",
   "mimetype": "text/x-python",
   "name": "python",
   "nbconvert_exporter": "python",
   "pygments_lexer": "ipython3",
   "version": "3.9.12"
  }
 },
 "nbformat": 4,
 "nbformat_minor": 5
}
