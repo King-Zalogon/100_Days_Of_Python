{
 "cells": [
  {
   "cell_type": "markdown",
   "id": "39979606",
   "metadata": {},
   "source": [
    "# The Blackjack Capstone Project"
   ]
  },
  {
   "cell_type": "code",
   "execution_count": 1,
   "id": "96cd9669",
   "metadata": {},
   "outputs": [
    {
     "name": "stdout",
     "output_type": "stream",
     "text": [
      "\n",
      ".------.            _     _            _    _            _    \n",
      "|A_  _ |.          | |   | |          | |  (_)          | |   \n",
      "|( \\/ ).-----.     | |__ | | __ _  ___| | ___  __ _  ___| | __\n",
      "| \\  /|K /\\  |     | '_ \\| |/ _` |/ __| |/ / |/ _` |/ __| |/ /\n",
      "|  \\/ | /  \\ |     | |_) | | (_| | (__|   <| | (_| | (__|   < \n",
      "`-----| \\  / |     |_.__/|_|\\__,_|\\___|_|\\_\\ |\\__,_|\\___|_|\\_\\\n",
      "      |  \\/ K|                            _/ |                \n",
      "      `------'                           |__/           \n",
      "\n"
     ]
    }
   ],
   "source": [
    "import random\n",
    "from IPython.display import clear_output\n",
    "from art_blackjack import logo\n",
    "\n",
    "suits = ('Hearts', 'Diamonds', 'Spades', 'Clubs')\n",
    "ranks = ('Ace','Two', 'Three', 'Four', 'Five', 'Six', 'Seven', 'Eight', 'Nine', 'Ten', 'Jack', 'Queen', 'King')\n",
    "values = {'Ace':11,'Two':2, 'Three':3, 'Four':4, 'Five':5, 'Six':6, 'Seven':7, 'Eight':8,'Nine':9, 'Ten':10, 'Jack':10, 'Queen':10, 'King':10}\n",
    "\n",
    "\n",
    "print(logo)"
   ]
  },
  {
   "cell_type": "code",
   "execution_count": 2,
   "id": "5551116c",
   "metadata": {},
   "outputs": [],
   "source": [
    "############### Blackjack Project #####################\n",
    "\n",
    "#Difficulty Normal 😎: Use all Hints below to complete the project.\n",
    "#Difficulty Hard 🤔: Use only Hints 1, 2, 3 to complete the project.\n",
    "#Difficulty Extra Hard 😭: Only use Hints 1 & 2 to complete the project.\n",
    "#Difficulty Expert 🤯: Only use Hint 1 to complete the project.\n",
    "\n",
    "############### Our Blackjack House Rules #####################\n",
    "\n",
    "## The deck is unlimited in size. \n",
    "## There are no jokers. \n",
    "## The Jack/Queen/King all count as 10.\n",
    "## The the Ace can count as 11 or 1.\n",
    "## Use the following list as the deck of cards:\n",
    "## cards = [11, 2, 3, 4, 5, 6, 7, 8, 9, 10, 10, 10, 10]\n",
    "## The cards in the list have equal probability of being drawn.\n",
    "## Cards are not removed from the deck as they are drawn.\n",
    "## The computer is the dealer.\n",
    "\n",
    "##################### Hints #####################\n",
    "\n",
    "#Hint 1: Go to this website and try out the Blackjack game: \n",
    "#   https://games.washingtonpost.com/games/blackjack/\n",
    "#Then try out the completed Blackjack project here: \n",
    "#   http://blackjack-final.appbrewery.repl.run\n",
    "\n",
    "#Hint 2: Read this breakdown of program requirements: \n",
    "#   http://listmoz.com/view/6h34DJpvJBFVRlZfJvxF\n",
    "#Then try to create your own flowchart for the program.\n",
    "\n",
    "#Hint 3: Download and read this flow chart I've created: \n",
    "#   https://drive.google.com/uc?export=download&id=1rDkiHCrhaf9eX7u7yjM1qwSuyEk-rPnt\n",
    "\n",
    "#Hint 4: Create a deal_card() function that uses the List below to *return* a random card.\n",
    "#11 is the Ace.\n",
    "#cards = [11, 2, 3, 4, 5, 6, 7, 8, 9, 10, 10, 10, 10]\n",
    "\n",
    "#Hint 5: Deal the user and computer 2 cards each using deal_card() and append().\n",
    "#user_cards = []\n",
    "#computer_cards = []\n",
    "\n",
    "#Hint 6: Create a function called calculate_score() that takes a List of cards as input \n",
    "#and returns the score. \n",
    "#Look up the sum() function to help you do this.\n",
    "\n",
    "#Hint 7: Inside calculate_score() check for a blackjack (a hand with only 2 cards: ace + 10) and return 0 instead of the actual score. 0 will represent a blackjack in our game.\n",
    "\n",
    "#Hint 8: Inside calculate_score() check for an 11 (ace). If the score is already over 21, remove the 11 and replace it with a 1. You might need to look up append() and remove().\n",
    "\n",
    "#Hint 9: Call calculate_score(). If the computer or the user has a blackjack (0) or if the user's score is over 21, then the game ends.\n",
    "\n",
    "#Hint 10: If the game has not ended, ask the user if they want to draw another card. If yes, then use the deal_card() function to add another card to the user_cards List. If no, then the game has ended.\n",
    "\n",
    "#Hint 11: The score will need to be rechecked with every new card drawn and the checks in Hint 9 need to be repeated until the game ends.\n",
    "\n",
    "#Hint 12: Once the user is done, it's time to let the computer play. The computer should keep drawing cards as long as it has a score less than 17.\n",
    "\n",
    "#Hint 13: Create a function called compare() and pass in the user_score and computer_score. If the computer and user both have the same score, then it's a draw. If the computer has a blackjack (0), then the user loses. If the user has a blackjack (0), then the user wins. If the user_score is over 21, then the user loses. If the computer_score is over 21, then the computer loses. If none of the above, then the player with the highest score wins.\n",
    "\n",
    "#Hint 14: Ask the user if they want to restart the game. If they answer yes, clear the console and start a new game of blackjack and show the logo from art.py.\n",
    "\n"
   ]
  },
  {
   "cell_type": "code",
   "execution_count": 2,
   "id": "f36ab9e9",
   "metadata": {},
   "outputs": [],
   "source": [
    "cards = [11, 2, 3, 4, 5, 6, 7, 8, 9, 10, 10, 10, 10]"
   ]
  },
  {
   "cell_type": "code",
   "execution_count": 4,
   "id": "bcbf73ab",
   "metadata": {},
   "outputs": [],
   "source": [
    "def create_deck(cards, suits, ranks):\n",
    "    deck = []\n",
    "    for card in cards:\n",
    "        for suit in suits:\n",
    "            deck.append(f\"{ranks[cards.index(card)]} of {suit}\")\n",
    "    random.shuffle(deck)\n",
    "    return deck"
   ]
  },
  {
   "cell_type": "code",
   "execution_count": 5,
   "id": "84b8df46",
   "metadata": {},
   "outputs": [],
   "source": [
    "current_deck = create_deck(cards, suits, ranks)"
   ]
  },
  {
   "cell_type": "code",
   "execution_count": 1,
   "id": "e7de07d6",
   "metadata": {},
   "outputs": [],
   "source": [
    "# def deal_card(deck, hand):\n",
    "    \n",
    "#     card = deck[random.randint(0, 51)]\n",
    "    \n",
    "#     while True:\n",
    "#         if card not in hand:\n",
    "#             hand.append(card)\n",
    "#             break\n",
    "#         else:\n",
    "#             card = deck[random.randint(0, 51)]\n",
    "\n",
    "\n",
    "# def hand(deck):\n",
    "#     hand = []\n",
    "    \n",
    "#     deal_card(deck, hand)\n",
    "#     deal_card(deck, hand)\n",
    "\n",
    "#     return hand"
   ]
  },
  {
   "cell_type": "code",
   "execution_count": 7,
   "id": "f03f10b2",
   "metadata": {},
   "outputs": [],
   "source": [
    "p_hand = hand(current_deck)"
   ]
  },
  {
   "cell_type": "code",
   "execution_count": 8,
   "id": "7789cb7a",
   "metadata": {},
   "outputs": [
    {
     "name": "stdout",
     "output_type": "stream",
     "text": [
      "['Ace of Diamonds', 'Four of Diamonds']\n"
     ]
    }
   ],
   "source": [
    "print(p_hand)"
   ]
  },
  {
   "cell_type": "code",
   "execution_count": 9,
   "id": "4bdc5059",
   "metadata": {},
   "outputs": [],
   "source": [
    "deal_card(current_deck, p_hand)"
   ]
  },
  {
   "cell_type": "code",
   "execution_count": 10,
   "id": "afc00a65",
   "metadata": {},
   "outputs": [],
   "source": [
    "z_str = 'Ace of Base'"
   ]
  },
  {
   "cell_type": "code",
   "execution_count": 11,
   "id": "d6ad2269",
   "metadata": {},
   "outputs": [
    {
     "data": {
      "text/plain": [
       "'Ace'"
      ]
     },
     "execution_count": 11,
     "metadata": {},
     "output_type": "execute_result"
    }
   ],
   "source": [
    "z_str.split(' ')[0]"
   ]
  },
  {
   "cell_type": "code",
   "execution_count": 12,
   "id": "47cf4621",
   "metadata": {},
   "outputs": [
    {
     "name": "stdout",
     "output_type": "stream",
     "text": [
      "11\n"
     ]
    }
   ],
   "source": [
    "print(values[p_hand[0].split(' ')[0]])"
   ]
  },
  {
   "cell_type": "code",
   "execution_count": 13,
   "id": "2b6a993e",
   "metadata": {
    "scrolled": true
   },
   "outputs": [
    {
     "name": "stdout",
     "output_type": "stream",
     "text": [
      "How much money did you bring to the game?  500\n"
     ]
    }
   ],
   "source": [
    "wallet = int(input('How much money did you bring to the game?  '))\n",
    "\n",
    "def take_bet(wallet):\n",
    "    bet = int(input('How much do you want to bet? Minimum of $5: \\n$'))\n",
    "    \n",
    "    return bet\n"
   ]
  },
  {
   "cell_type": "code",
   "execution_count": 14,
   "id": "8c16bee1",
   "metadata": {},
   "outputs": [],
   "source": [
    "player_turn = False\n",
    "\n",
    "def show_hand(turn, p_hand, d_hand):\n",
    "    \n",
    "    print(\"Player's hand is:\")\n",
    "    \n",
    "    for card in p_hand:\n",
    "        \n",
    "        print(card)\n",
    "    \n",
    "    if player_turn == True:\n",
    "        \n",
    "        print(\"Dealer's hand is:\")\n",
    "        print(d_hand[0])\n",
    "        print('and one more card')\n",
    "    \n",
    "    else:\n",
    "        \n",
    "        print(\"Dealer's hand is:\")\n",
    "        \n",
    "        for card in d_hand:\n",
    "            \n",
    "            print(card)\n",
    "    "
   ]
  },
  {
   "cell_type": "code",
   "execution_count": 15,
   "id": "6632214b",
   "metadata": {
    "scrolled": true
   },
   "outputs": [
    {
     "name": "stdout",
     "output_type": "stream",
     "text": [
      "Player's hand is:\n",
      "Ten of Hearts\n",
      "Ten of Spades\n",
      "Dealer's hand is:\n",
      "Ace of Hearts\n",
      "Ten of Diamonds\n"
     ]
    }
   ],
   "source": [
    "players_hand = hand(current_deck)\n",
    "dealers_hand = hand(current_deck)\n",
    "\n",
    "show_hand(player_turn, players_hand, dealers_hand)"
   ]
  },
  {
   "cell_type": "code",
   "execution_count": 16,
   "id": "37f9947c",
   "metadata": {},
   "outputs": [],
   "source": [
    "def cards_sum(turn, p_hand, d_hand):\n",
    "    \n",
    "    p_score = 0\n",
    "        \n",
    "    d_score = 0\n",
    "    \n",
    "    for card in p_hand:\n",
    "        p_score += values[p_hand[p_hand.index(card)].split(' ')[0]]\n",
    "        \n",
    "    print(f\"Player's hand adds up to {p_score}\")\n",
    "    \n",
    "    for card in d_hand:\n",
    "        d_score += values[d_hand[d_hand.index(card)].split(' ')[0]]\n",
    "    \n",
    "    print(f\"Dealer's hand adds up to {d_score}\")\n",
    "    \n",
    "    scores = [p_score, d_score]\n",
    "    \n",
    "    return scores\n"
   ]
  },
  {
   "cell_type": "code",
   "execution_count": 17,
   "id": "225dad1f",
   "metadata": {},
   "outputs": [
    {
     "name": "stdout",
     "output_type": "stream",
     "text": [
      "Player's hand adds up to 20\n",
      "Dealer's hand adds up to 21\n"
     ]
    },
    {
     "data": {
      "text/plain": [
       "[20, 21]"
      ]
     },
     "execution_count": 17,
     "metadata": {},
     "output_type": "execute_result"
    }
   ],
   "source": [
    "cards_sum(player_turn, players_hand, dealers_hand)"
   ]
  },
  {
   "cell_type": "code",
   "execution_count": 19,
   "id": "55177809",
   "metadata": {},
   "outputs": [],
   "source": [
    "def check_results(scores, turn):\n",
    "    p_score = scores[0]\n",
    "    d_scores = scores[1]\n",
    "    \n",
    "    p_bust = False\n",
    "    d_bust = False\n",
    "    \n",
    "    draw = False\n",
    "    \n",
    "    winner = ''\n",
    "    \n",
    "    if p_score > 21:\n",
    "        p_bust = True\n",
    "        \n",
    "    if d_score > 21:\n",
    "        d_bust = True\n",
    "        \n",
    "#     if turn == True:\n",
    "#         if P_score > 21:\n",
    "#             if r'Ace*' in \n",
    "    # Have to find a way to detect is hand has Ace, \n",
    "    # change it's value from 11 to 1 if above 21\n",
    "    # and do it for each Ace if more than one without doing it more than once for the same Ace\n",
    "    \n",
    "    \n",
    "    \n",
    "    "
   ]
  },
  {
   "cell_type": "code",
   "execution_count": null,
   "id": "8862dd96",
   "metadata": {},
   "outputs": [],
   "source": []
  },
  {
   "cell_type": "code",
   "execution_count": 46,
   "id": "1d39fc01",
   "metadata": {},
   "outputs": [
    {
     "name": "stdout",
     "output_type": "stream",
     "text": [
      "Your cards: [10, 4], current score: 14\n",
      "Computer's first card: 3\n",
      "Type \"y\" to get another card, type \"n\" to pass: y\n",
      "Your cards: [10, 4, 7], current score: 21\n",
      "Computer's first card: 3\n",
      "Type \"y\" to get another card, type \"n\" to pass: n\n",
      "Your final hand: [10, 4, 7], final score: 21\n",
      "Computer's final hand: [3, 10, 3, 10], final score: 26\n",
      "Opponent went over 21, you win!\n"
     ]
    }
   ],
   "source": [
    "import random\n",
    "\n",
    "user_cards = []\n",
    "computer_cards = []\n",
    "is_game_over = False\n",
    "\n",
    "def deal_card():\n",
    "    \"\"\"\n",
    "    Returns a random card from the deck\n",
    "    \"\"\"\n",
    "    cards = [11, 2, 3, 4, 5, 6, 7, 8, 9, 10, 10, 10, 10]\n",
    "    \n",
    "    card = random.choice(cards)\n",
    "    \n",
    "    return card\n",
    "\n",
    "def calculate_score(cards):\n",
    "    \"\"\"\n",
    "    Takes a list of cards and returns the score calculeted from the cards.\n",
    "    If list is a blackjack it returns '0'\n",
    "    IF the sum is over 21 and list has an Ace, changes it's value from 11 to 1\n",
    "    \"\"\"\n",
    "    if sum(cards) == 21 and len(cards)==2:\n",
    "        return 0\n",
    "    \n",
    "    if 11 in cards and sum(cards) > 21:\n",
    "        cards.remove(11)\n",
    "        cards.append(1)\n",
    "    \n",
    "    return sum(cards)\n",
    "\n",
    "def compare(user_score, computer_score):\n",
    "    if user_score == computer_score:\n",
    "        return \"Draw... nobody wins\"\n",
    "    elif computer_score == 0:\n",
    "        return \"You lose, opponent has Blackjack\"\n",
    "    elif user_score == 0:\n",
    "        return \"You win with a Blackjack!\"\n",
    "    elif user_score > 21:\n",
    "        return \"You went over 21, you lose...\"\n",
    "    elif computer_score > 21:\n",
    "        return \"Opponent went over 21, you win!\"\n",
    "    elif user_score > computer_score:\n",
    "        return \"You win!!!\"\n",
    "    else:\n",
    "        return \"You lose...\"\n",
    "\n",
    "def play_game():\n",
    "for _ in range(2):\n",
    "    user_cards.append(deal_card())\n",
    "    computer_cards.append(deal_card())\n",
    "\n",
    "while not is_game_over:\n",
    "    \n",
    "    user_score = calculate_score(user_cards)\n",
    "    computer_score = calculate_score(computer_cards)\n",
    "    print(f'Your cards: {user_cards}, current score: {user_score}')\n",
    "    print(f\"Computer's first card: {computer_cards[0]}\")\n",
    "\n",
    "    if user_score == 0 or computer_score == 0 or user_score > 21:\n",
    "        is_game_over = True\n",
    "    else:\n",
    "        user_should_deal = input('Type \"y\" to get another card, type \"n\" to pass: ')\n",
    "        if user_should_deal == 'y':\n",
    "            user_cards.append(deal_card())\n",
    "        else:\n",
    "            is_game_over = True\n",
    "\n",
    "while computer_score != 0 and computer_score < 17:\n",
    "    computer_cards.append(deal_card())\n",
    "    computer_score = calculate_score(computer_cards)\n",
    "    \n",
    "print(f\"Your final hand: {user_cards}, final score: {user_score}\")    \n",
    "print(f\"Computer's final hand: {computer_cards}, final score: {computer_score}\")\n",
    "print(compare(user_score, computer_score))\n",
    "\n",
    "while input('Do you want to play a game of Blackjack? Type \"y\" or \"n\": ') == 'y':\n",
    "    play_game()"
   ]
  }
 ],
 "metadata": {
  "celltoolbar": "Raw Cell Format",
  "kernelspec": {
   "display_name": "Python 3 (ipykernel)",
   "language": "python",
   "name": "python3"
  },
  "language_info": {
   "codemirror_mode": {
    "name": "ipython",
    "version": 3
   },
   "file_extension": ".py",
   "mimetype": "text/x-python",
   "name": "python",
   "nbconvert_exporter": "python",
   "pygments_lexer": "ipython3",
   "version": "3.9.12"
  }
 },
 "nbformat": 4,
 "nbformat_minor": 5
}
