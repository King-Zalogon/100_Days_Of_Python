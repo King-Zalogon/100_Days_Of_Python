{
 "cells": [
  {
   "cell_type": "markdown",
   "id": "3e7d19cb",
   "metadata": {},
   "source": [
    "# Data Types"
   ]
  },
  {
   "cell_type": "code",
   "execution_count": 1,
   "id": "1fa44c3e",
   "metadata": {},
   "outputs": [
    {
     "name": "stdout",
     "output_type": "stream",
     "text": [
      "H\n"
     ]
    }
   ],
   "source": [
    "# Strings\n",
    "\n",
    "print('Hello'[0])"
   ]
  },
  {
   "cell_type": "code",
   "execution_count": 3,
   "id": "849e5f06",
   "metadata": {},
   "outputs": [
    {
     "name": "stdout",
     "output_type": "stream",
     "text": [
      "123345\n"
     ]
    }
   ],
   "source": [
    "# The '+' concatenates 2+ strings\n",
    "print('123'+'345')"
   ]
  },
  {
   "cell_type": "code",
   "execution_count": 4,
   "id": "1c2a4553",
   "metadata": {},
   "outputs": [
    {
     "name": "stdout",
     "output_type": "stream",
     "text": [
      "468\n"
     ]
    }
   ],
   "source": [
    "# Integers -  number without any decimal value\n",
    "\n",
    "print( 123 + 345 )"
   ]
  },
  {
   "cell_type": "code",
   "execution_count": 5,
   "id": "b205e6d1",
   "metadata": {},
   "outputs": [
    {
     "name": "stdout",
     "output_type": "stream",
     "text": [
      "21345\n"
     ]
    }
   ],
   "source": [
    "# insted of usin , for 1,000,000 in Python it uses \"_\" -> 1_000_000\n",
    "\n",
    "print (9_000 + 12_345)"
   ]
  },
  {
   "cell_type": "code",
   "execution_count": 6,
   "id": "d4ef7038",
   "metadata": {},
   "outputs": [
    {
     "name": "stdout",
     "output_type": "stream",
     "text": [
      "9999.0\n"
     ]
    }
   ],
   "source": [
    "# Floating Point Numbers\n",
    "\n",
    "pi = 3.14\n",
    "f_num = 0.001\n",
    "\n",
    "print(9_998.01 + 0.99)"
   ]
  },
  {
   "cell_type": "code",
   "execution_count": 7,
   "id": "ea862efd",
   "metadata": {},
   "outputs": [
    {
     "name": "stdout",
     "output_type": "stream",
     "text": [
      "5.0\n"
     ]
    }
   ],
   "source": [
    "print( 4 + 1.0)"
   ]
  },
  {
   "cell_type": "code",
   "execution_count": 8,
   "id": "9f3faff8",
   "metadata": {},
   "outputs": [
    {
     "name": "stdout",
     "output_type": "stream",
     "text": [
      "True\n"
     ]
    }
   ],
   "source": [
    "# Boleans are always True or False\n",
    "# Can be used for int, float, str, etc.\n",
    "\n",
    "print(3>1)"
   ]
  },
  {
   "cell_type": "code",
   "execution_count": 9,
   "id": "4ce96512",
   "metadata": {},
   "outputs": [
    {
     "name": "stdout",
     "output_type": "stream",
     "text": [
      "False\n"
     ]
    }
   ],
   "source": [
    "print ('String' == 'Banana')"
   ]
  },
  {
   "cell_type": "code",
   "execution_count": 10,
   "id": "a2da90bf",
   "metadata": {},
   "outputs": [
    {
     "data": {
      "text/plain": [
       "str"
      ]
     },
     "execution_count": 10,
     "metadata": {},
     "output_type": "execute_result"
    }
   ],
   "source": [
    "type ('hello')"
   ]
  },
  {
   "cell_type": "code",
   "execution_count": 11,
   "id": "636f0d74",
   "metadata": {},
   "outputs": [
    {
     "data": {
      "text/plain": [
       "str"
      ]
     },
     "execution_count": 11,
     "metadata": {},
     "output_type": "execute_result"
    }
   ],
   "source": [
    "type('123')"
   ]
  },
  {
   "cell_type": "code",
   "execution_count": 12,
   "id": "8db9c89d",
   "metadata": {},
   "outputs": [
    {
     "data": {
      "text/plain": [
       "int"
      ]
     },
     "execution_count": 12,
     "metadata": {},
     "output_type": "execute_result"
    }
   ],
   "source": [
    "type(123)"
   ]
  },
  {
   "cell_type": "code",
   "execution_count": 13,
   "id": "6d8f3ed8",
   "metadata": {},
   "outputs": [
    {
     "data": {
      "text/plain": [
       "float"
      ]
     },
     "execution_count": 13,
     "metadata": {},
     "output_type": "execute_result"
    }
   ],
   "source": [
    "type(12.3)"
   ]
  },
  {
   "cell_type": "code",
   "execution_count": 14,
   "id": "42005e02",
   "metadata": {},
   "outputs": [
    {
     "data": {
      "text/plain": [
       "bool"
      ]
     },
     "execution_count": 14,
     "metadata": {},
     "output_type": "execute_result"
    }
   ],
   "source": [
    "type(False)"
   ]
  },
  {
   "cell_type": "code",
   "execution_count": 15,
   "id": "dd9fa32b",
   "metadata": {},
   "outputs": [
    {
     "name": "stdout",
     "output_type": "stream",
     "text": [
      "Type a two digit number: 47\n",
      "11\n"
     ]
    }
   ],
   "source": [
    "# 🚨 Don't change the code below 👇\n",
    "two_digit_number = input(\"Type a two digit number: \")\n",
    "# 🚨 Don't change the code above 👆\n",
    "\n",
    "####################################\n",
    "#Write your code below this line 👇\n",
    "print(int(two_digit_number[0])+int(two_digit_number[1]))"
   ]
  },
  {
   "cell_type": "markdown",
   "id": "47200093",
   "metadata": {},
   "source": [
    "# Mathematical Operation"
   ]
  },
  {
   "cell_type": "code",
   "execution_count": 1,
   "id": "70e9fea1",
   "metadata": {},
   "outputs": [
    {
     "name": "stdout",
     "output_type": "stream",
     "text": [
      "3486784401\n"
     ]
    }
   ],
   "source": [
    "1+2\n",
    "3-4\n",
    "5*6\n",
    "7/8\n",
    "print(9**10)"
   ]
  },
  {
   "cell_type": "markdown",
   "id": "e5d04a0a",
   "metadata": {},
   "source": [
    "### PEMDAS\n",
    "\n",
    "Parentheses ()\n",
    "\n",
    "\n",
    "Exponents **\n",
    "\n",
    "\n",
    "Multiplication * & Division /\n",
    "\n",
    "\n",
    "Addition + & Subtraction -\n"
   ]
  },
  {
   "cell_type": "code",
   "execution_count": 3,
   "id": "f15f29d0",
   "metadata": {},
   "outputs": [
    {
     "name": "stdout",
     "output_type": "stream",
     "text": [
      "7.0\n"
     ]
    }
   ],
   "source": [
    "print (3 * 3 + 3 / 3 - 3)\n",
    "# First it multiplies 3*3 and divides 3/3 (left first)\n",
    "# Second it takes 2 results and adds the second to the firs, then substracts 3"
   ]
  },
  {
   "cell_type": "code",
   "execution_count": 4,
   "id": "022e8b6d",
   "metadata": {},
   "outputs": [
    {
     "name": "stdout",
     "output_type": "stream",
     "text": [
      "3.0\n"
     ]
    }
   ],
   "source": [
    "print(3 * (3 + 3) / 3 - 3)"
   ]
  },
  {
   "cell_type": "code",
   "execution_count": 5,
   "id": "fbfba4db",
   "metadata": {},
   "outputs": [
    {
     "name": "stdout",
     "output_type": "stream",
     "text": [
      "enter your height in m: 1.75\n",
      "enter your weight in kg: 65\n",
      "21\n"
     ]
    }
   ],
   "source": [
    "# BMI Calculator\n",
    "\n",
    "# 🚨 Don't change the code below 👇\n",
    "height = input(\"enter your height in m: \")\n",
    "weight = input(\"enter your weight in kg: \")\n",
    "# 🚨 Don't change the code above 👆\n",
    "\n",
    "#Write your code below this line 👇\n",
    "bmi = round((float(weight))/(float(height)**2))\n",
    "\n",
    "print(bmi)"
   ]
  },
  {
   "cell_type": "code",
   "execution_count": 8,
   "id": "4b9c104c",
   "metadata": {},
   "outputs": [
    {
     "name": "stdout",
     "output_type": "stream",
     "text": [
      "2.6666666666666665\n",
      "2.67\n",
      "2\n"
     ]
    }
   ],
   "source": [
    "print(8/3)\n",
    "# If you need to round a number use de .round(a,b) function\n",
    "# where a is the number to round-up and b, opcional, is the number of decimals (if not entered it returns a whole number, integer)\n",
    "print(round(8/3, 2))\n",
    "# You can use // to get a floor division\n",
    "\n",
    "print(8//3)"
   ]
  },
  {
   "cell_type": "code",
   "execution_count": 7,
   "id": "611594e5",
   "metadata": {},
   "outputs": [
    {
     "name": "stdout",
     "output_type": "stream",
     "text": [
      "2.0\n"
     ]
    }
   ],
   "source": [
    "# Otherwise every division gives a float\n",
    "\n",
    "print(4/2)"
   ]
  },
  {
   "cell_type": "markdown",
   "id": "44d912b4",
   "metadata": {},
   "source": [
    "# Time left until 90 years old"
   ]
  },
  {
   "cell_type": "code",
   "execution_count": 9,
   "id": "6c768b93",
   "metadata": {},
   "outputs": [],
   "source": [
    "# It should take the input of someone's age and calculate how long until they reach 90 in days, weeks and months"
   ]
  },
  {
   "cell_type": "code",
   "execution_count": 15,
   "id": "753bd6c3",
   "metadata": {},
   "outputs": [
    {
     "name": "stdout",
     "output_type": "stream",
     "text": [
      "What is your current age?39\n",
      "You have 18615 days, 2652 weeks, and 612 months left.\n"
     ]
    }
   ],
   "source": [
    "# 🚨 Don't change the code below 👇\n",
    "age = input(\"What is your current age?\")\n",
    "# 🚨 Don't change the code above 👆\n",
    "\n",
    "#Write your code below this line 👇\n",
    "age = int(age)\n",
    "years = 90 - age\n",
    "months = years * 12\n",
    "weeks = years * 52\n",
    "days = years * 365\n",
    "print (f'You have {days} days, {weeks} weeks, and {months} months left.')"
   ]
  },
  {
   "cell_type": "markdown",
   "id": "b35d9431",
   "metadata": {},
   "source": [
    "# Tip calculator"
   ]
  },
  {
   "cell_type": "code",
   "execution_count": 23,
   "id": "89b2f598",
   "metadata": {},
   "outputs": [
    {
     "name": "stdout",
     "output_type": "stream",
     "text": [
      "Welcome to the tip calculator.\n",
      "What was he total bill?124.56\n",
      "What percentage tip would you like to give? 10. 12. or 15?12\n",
      "How many people to split the bill?7\n",
      "Each person should pay: $19.93\n"
     ]
    }
   ],
   "source": [
    "#If the bill was $150.00, split between 5 people, with 12% tip. \n",
    "\n",
    "#Each person should pay (150.00 / 5) * 1.12 = 33.6\n",
    "#Format the result to 2 decimal places = 33.60\n",
    "\n",
    "#Tip: There are 2 ways to round a number. You might have to do some Googling to solve this.💪\n",
    "\n",
    "#Write your code below this line 👇\n",
    "\n",
    "print('Welcome to the tip calculator.')\n",
    "bill = float(input('What was he total bill?'))\n",
    "perc = int(input('What percentage tip would you like to give? 10. 12. or 15?'))\n",
    "total_tip = bill*(perc/100)\n",
    "people = int(input('How many people to split the bill?'))\n",
    "tip = round(((bill+total_tip)/people),2)\n",
    "print(f'Each person should pay: ${tip}')\n",
    "             "
   ]
  },
  {
   "cell_type": "code",
   "execution_count": null,
   "id": "20aa8c53",
   "metadata": {},
   "outputs": [],
   "source": []
  }
 ],
 "metadata": {
  "kernelspec": {
   "display_name": "Python 3 (ipykernel)",
   "language": "python",
   "name": "python3"
  },
  "language_info": {
   "codemirror_mode": {
    "name": "ipython",
    "version": 3
   },
   "file_extension": ".py",
   "mimetype": "text/x-python",
   "name": "python",
   "nbconvert_exporter": "python",
   "pygments_lexer": "ipython3",
   "version": "3.9.12"
  }
 },
 "nbformat": 4,
 "nbformat_minor": 5
}
